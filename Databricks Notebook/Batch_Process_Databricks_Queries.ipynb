{
 "cells": [
  {
   "cell_type": "code",
   "execution_count": 0,
   "metadata": {
    "application/vnd.databricks.v1+cell": {
     "cellMetadata": {
      "byteLimit": 2048000,
      "rowLimit": 10000
     },
     "inputWidgets": {},
     "nuid": "badebbf9-1810-45a1-a985-45a96cdb9411",
     "showTitle": false,
     "title": ""
    }
   },
   "outputs": [
    {
     "output_type": "display_data",
     "data": {
      "text/html": [
       "<style scoped>\n",
       "  .ansiout {\n",
       "    display: block;\n",
       "    unicode-bidi: embed;\n",
       "    white-space: pre-wrap;\n",
       "    word-wrap: break-word;\n",
       "    word-break: break-all;\n",
       "    font-family: \"Menlo\", \"Monaco\", \"Consolas\", \"Ubuntu Mono\", \"Source Code Pro\", monospace;\n",
       "    font-size: 13px;\n",
       "    color: #555;\n",
       "    margin-left: 4px;\n",
       "    line-height: 19px;\n",
       "  }\n",
       "</style>\n",
       "<div class=\"ansiout\"></div>"
      ]
     },
     "metadata": {
      "application/vnd.databricks.v1+output": {
       "addedWidgets": {},
       "arguments": {},
       "data": "<div class=\"ansiout\"></div>",
       "datasetInfos": [],
       "metadata": {},
       "removedWidgets": [],
       "type": "html"
      }
     },
     "output_type": "display_data"
    }
   ],
   "source": [
    "# Import Libraries\n",
    "\n",
    "from pyspark.sql.window import Window\n",
    "from pyspark.sql.functions import *\n",
    "import urllib"
   ]
  },
  {
   "cell_type": "code",
   "execution_count": 0,
   "metadata": {
    "application/vnd.databricks.v1+cell": {
     "cellMetadata": {
      "byteLimit": 2048000,
      "rowLimit": 10000
     },
     "inputWidgets": {},
     "nuid": "06ea4e85-2f30-4820-8a74-fb0d5930066b",
     "showTitle": false,
     "title": ""
    }
   },
   "outputs": [
    {
     "output_type": "display_data",
     "data": {
      "text/html": [
       "<style scoped>\n",
       "  .ansiout {\n",
       "    display: block;\n",
       "    unicode-bidi: embed;\n",
       "    white-space: pre-wrap;\n",
       "    word-wrap: break-word;\n",
       "    word-break: break-all;\n",
       "    font-family: \"Menlo\", \"Monaco\", \"Consolas\", \"Ubuntu Mono\", \"Source Code Pro\", monospace;\n",
       "    font-size: 13px;\n",
       "    color: #555;\n",
       "    margin-left: 4px;\n",
       "    line-height: 19px;\n",
       "  }\n",
       "</style>\n",
       "<div class=\"ansiout\">/mnt/databricks_s3_bucket has been unmounted.\n",
       "Out[418]: True</div>"
      ]
     },
     "metadata": {
      "application/vnd.databricks.v1+output": {
       "addedWidgets": {},
       "arguments": {},
       "data": "<div class=\"ansiout\">/mnt/databricks_s3_bucket has been unmounted.\nOut[418]: True</div>",
       "datasetInfos": [],
       "metadata": {},
       "removedWidgets": [],
       "type": "html"
      }
     },
     "output_type": "display_data"
    }
   ],
   "source": [
    "# Mount S3 Bucket and Authentifications\n",
    "\n",
    "# Read Delta table containing authentication credentials \n",
    "delta_table_path = \"dbfs:/user/hive/warehouse/authentication_credentials\"\n",
    "aws_keys_df = spark.read.format(\"delta\").load(delta_table_path)\n",
    "\n",
    "# Get the AWS access key, secret key, and encode secret key.\n",
    "ACCESS_KEY = aws_keys_df.select('Access key ID').collect()[0]['Access key ID']\n",
    "SECRET_KEY = aws_keys_df.select('Secret access key').collect()[0]['Secret access key']\n",
    "ENCODED_SECRET_KEY = urllib.parse.quote(string=SECRET_KEY, safe=\"\")\n",
    "\n",
    "# S3 bucket information\n",
    "AWS_S3_BUCKET = \"user-126802f17de3-bucket\"\n",
    "MOUNT_NAME = \"/mnt/databricks_s3_bucket\"\n",
    "SOURCE_URL = \"s3n://{0}:{1}@{2}\".format(ACCESS_KEY, ENCODED_SECRET_KEY, AWS_S3_BUCKET)\n",
    "\n",
    "# Unmount the previous mount to avoid conflicts, then mount the S3 bucket to Databricks\n",
    "try:\n",
    "    dbutils.fs.unmount(MOUNT_NAME)\n",
    "except Exception:\n",
    "    pass\n",
    "dbutils.fs.mount(SOURCE_URL, MOUNT_NAME)"
   ]
  },
  {
   "cell_type": "code",
   "execution_count": 0,
   "metadata": {
    "application/vnd.databricks.v1+cell": {
     "cellMetadata": {
      "byteLimit": 2048000,
      "rowLimit": 10000
     },
     "inputWidgets": {},
     "nuid": "fcd268fb-4e29-4a73-b489-08ab399d2ce2",
     "showTitle": false,
     "title": ""
    }
   },
   "outputs": [
    {
     "output_type": "display_data",
     "data": {
      "text/html": [
       "<style scoped>\n",
       "  .ansiout {\n",
       "    display: block;\n",
       "    unicode-bidi: embed;\n",
       "    white-space: pre-wrap;\n",
       "    word-wrap: break-word;\n",
       "    word-break: break-all;\n",
       "    font-family: \"Menlo\", \"Monaco\", \"Consolas\", \"Ubuntu Mono\", \"Source Code Pro\", monospace;\n",
       "    font-size: 13px;\n",
       "    color: #555;\n",
       "    margin-left: 4px;\n",
       "    line-height: 19px;\n",
       "  }\n",
       "</style>\n",
       "<div class=\"ansiout\"></div>"
      ]
     },
     "metadata": {
      "application/vnd.databricks.v1+output": {
       "addedWidgets": {},
       "arguments": {},
       "data": "<div class=\"ansiout\"></div>",
       "datasetInfos": [],
       "metadata": {},
       "removedWidgets": [],
       "type": "html"
      }
     },
     "output_type": "display_data"
    }
   ],
   "source": [
    "# Reading Data\n",
    "  \n",
    "# Reading and converting JSON into dataframes\n",
    "def read_json_to_dataframe(file_location, file_type=\"json\", infer_schema=\"true\"):\n",
    "    \"\"\"\n",
    "    Reads JSON data from the specified file location into a Spark DataFrame.\n",
    "\n",
    "    Parameters:\n",
    "    - file_location (str): The location of the JSON files.\n",
    "    - file_type (str): The file type to read (default is \"json\").\n",
    "    - infer_schema (str): Whether to infer the schema (default is \"true\").\n",
    "\n",
    "    Returns:\n",
    "    - pyspark.sql.DataFrame: The DataFrame containing the read JSON data.\n",
    "    \"\"\"\n",
    "    spark.conf.set(\"spark.databricks.delta.formatCheck.enabled\", \"false\")\n",
    "    \n",
    "    df = spark.read.format(file_type) \\\n",
    "        .option(\"inferSchema\", infer_schema) \\\n",
    "        .load(file_location)\n",
    "\n",
    "    return df\n",
    "\n",
    "# Read data from S3 into a DataFrames\n",
    "df_pin_uncleaned = read_json_to_dataframe(\"/mnt/databricks_s3_bucket/topics/126802f17de3.pin/partition=0/*.json\")\n",
    "df_geo_uncleaned = read_json_to_dataframe(\"/mnt/databricks_s3_bucket/topics/126802f17de3.geo/partition=0/*.json\")\n",
    "df_user_uncleaned = read_json_to_dataframe(\"/mnt/databricks_s3_bucket/topics/126802f17de3.user/partition=0/*.json\")\n",
    "\n",
    "# Uncomment the following lines if you want to display the DataFrames (uncleaned)\n",
    "# display(df_pin_uncleaned)\n",
    "# display(df_geo_uncleaned)\n",
    "# display(df_user_uncleaned)"
   ]
  },
  {
   "cell_type": "code",
   "execution_count": 0,
   "metadata": {
    "application/vnd.databricks.v1+cell": {
     "cellMetadata": {
      "byteLimit": 2048000,
      "rowLimit": 10000
     },
     "inputWidgets": {},
     "nuid": "56afe8bf-54eb-4fa4-a58f-5ac67b8396cc",
     "showTitle": false,
     "title": ""
    }
   },
   "outputs": [
    {
     "output_type": "display_data",
     "data": {
      "text/html": [
       "<style scoped>\n",
       "  .ansiout {\n",
       "    display: block;\n",
       "    unicode-bidi: embed;\n",
       "    white-space: pre-wrap;\n",
       "    word-wrap: break-word;\n",
       "    word-break: break-all;\n",
       "    font-family: \"Menlo\", \"Monaco\", \"Consolas\", \"Ubuntu Mono\", \"Source Code Pro\", monospace;\n",
       "    font-size: 13px;\n",
       "    color: #555;\n",
       "    margin-left: 4px;\n",
       "    line-height: 19px;\n",
       "  }\n",
       "</style>\n",
       "<div class=\"ansiout\"></div>"
      ]
     },
     "metadata": {
      "application/vnd.databricks.v1+output": {
       "addedWidgets": {},
       "arguments": {},
       "data": "<div class=\"ansiout\"></div>",
       "datasetInfos": [],
       "metadata": {},
       "removedWidgets": [],
       "type": "html"
      }
     },
     "output_type": "display_data"
    }
   ],
   "source": [
    "# Cleaning Pinterest DataFrame\n",
    "\n",
    "def cleaning_pin(df):\n",
    "    \"\"\"\n",
    "    Clean the pinterest data DataFrame (df_pin_uncleaned) by performing the following transformations:\n",
    "    1. Replace empty entries and entries with no relevant data with None in specified columns.\n",
    "    2. Transform follower_count to ensure every entry is a number and change its data type to int.\n",
    "    3. Ensure that each column containing numeric data has a numeric data type.\n",
    "    4. Clean the data in the save_location column to include only the save location path.\n",
    "    5. Rename the index column to ind.\n",
    "    6. Reorder the DataFrame columns.\n",
    "\n",
    "    Parameters:\n",
    "    - df (pyspark.sql.DataFrame): Input DataFrame to be cleaned.\n",
    "\n",
    "    Returns:\n",
    "    - pyspark.sql.DataFrame: Cleaned DataFrame.\n",
    "    \"\"\"\n",
    "\n",
    "    null_dict = {\n",
    "        \"description\": \"No description available Story format\",\n",
    "        \"follower_count\": \"User Info Error\",\n",
    "        \"image_src\": \"Image src error.\",\n",
    "        \"poster_name\": \"User Info Error\",\n",
    "        \"tag_list\": \"N,o, ,T,a,g,s, ,A,v,a,i,l,a,b,l,e\",\n",
    "        \"title\": \"No Title Data Available\"\n",
    "    }\n",
    "\n",
    "    for key, value in null_dict.items():\n",
    "        df = df.na.replace(value, None, key)\n",
    "\n",
    "    df = df.withColumn(\"follower_count\", regexp_replace(\"follower_count\", \"k\", \"000\"))\n",
    "    df = df.withColumn(\"follower_count\", regexp_replace(\"follower_count\", \"M\", \"0000\"))\n",
    "    df = df.withColumn(\"follower_count\", df[\"follower_count\"].cast(\"int\"))\n",
    "    df = df.withColumn(\"save_location\", regexp_replace(\"save_location\", \"Local save in \", \"\"))\n",
    "    df = df.withColumnRenamed(\"index\", \"ind\")\n",
    "    df = df.select(\"ind\", \"unique_id\", \"title\", \"description\", \"follower_count\", \"poster_name\", \"tag_list\",\n",
    "                   \"is_image_or_video\", \"image_src\", \"save_location\", \"category\")\n",
    "    return df\n",
    "\n",
    "# Applying cleaning function\n",
    "df_pin = cleaning_pin(df_pin_uncleaned)"
   ]
  },
  {
   "cell_type": "code",
   "execution_count": 0,
   "metadata": {
    "application/vnd.databricks.v1+cell": {
     "cellMetadata": {
      "byteLimit": 2048000,
      "rowLimit": 10000
     },
     "inputWidgets": {},
     "nuid": "37643f03-0183-495f-aa93-291c5de71727",
     "showTitle": false,
     "title": ""
    }
   },
   "outputs": [
    {
     "output_type": "display_data",
     "data": {
      "text/html": [
       "<style scoped>\n",
       "  .ansiout {\n",
       "    display: block;\n",
       "    unicode-bidi: embed;\n",
       "    white-space: pre-wrap;\n",
       "    word-wrap: break-word;\n",
       "    word-break: break-all;\n",
       "    font-family: \"Menlo\", \"Monaco\", \"Consolas\", \"Ubuntu Mono\", \"Source Code Pro\", monospace;\n",
       "    font-size: 13px;\n",
       "    color: #555;\n",
       "    margin-left: 4px;\n",
       "    line-height: 19px;\n",
       "  }\n",
       "</style>\n",
       "<div class=\"ansiout\"></div>"
      ]
     },
     "metadata": {
      "application/vnd.databricks.v1+output": {
       "addedWidgets": {},
       "arguments": {},
       "data": "<div class=\"ansiout\"></div>",
       "datasetInfos": [],
       "metadata": {},
       "removedWidgets": [],
       "type": "html"
      }
     },
     "output_type": "display_data"
    }
   ],
   "source": [
    "# Cleaning Geolocation DataFrame\n",
    "\n",
    "def cleaning_geo(df):\n",
    "    \"\"\"\n",
    "    Clean the geolocation data DataFrame (df_geo_uncleaned) by performing the following transformations:\n",
    "    1. Create a new column coordinates that contains an array based on the latitude and longitude columns.\n",
    "    2. Drop the latitude and longitude columns from the DataFrame.\n",
    "    3. Convert the timestamp column from a string to a timestamp data type.\n",
    "    4. Reorder the DataFrame columns.\n",
    "\n",
    "    Parameters:\n",
    "    - df (pyspark.sql.DataFrame): Input DataFrame to be cleaned.\n",
    "\n",
    "    Returns:\n",
    "    - pyspark.sql.DataFrame: Cleaned DataFrame.\n",
    "    \"\"\"\n",
    "    df = df.withColumn(\"coordinates\", array(\"latitude\", \"longitude\"))\n",
    "    df = df.drop(\"latitude\", \"longitude\")\n",
    "    df = df.withColumn(\"timestamp\", to_timestamp(\"timestamp\"))\n",
    "    df = df.select(\"ind\", \"country\", \"coordinates\", \"timestamp\")\n",
    "    return df\n",
    "\n",
    "        \n",
    "# Applying cleaning function\n",
    "df_geo = cleaning_geo(df_geo_uncleaned)"
   ]
  },
  {
   "cell_type": "code",
   "execution_count": 0,
   "metadata": {
    "application/vnd.databricks.v1+cell": {
     "cellMetadata": {
      "byteLimit": 2048000,
      "rowLimit": 10000
     },
     "inputWidgets": {},
     "nuid": "2b802227-2ca0-40c0-83e6-98d9b1cbbb82",
     "showTitle": false,
     "title": ""
    }
   },
   "outputs": [
    {
     "output_type": "display_data",
     "data": {
      "text/html": [
       "<style scoped>\n",
       "  .ansiout {\n",
       "    display: block;\n",
       "    unicode-bidi: embed;\n",
       "    white-space: pre-wrap;\n",
       "    word-wrap: break-word;\n",
       "    word-break: break-all;\n",
       "    font-family: \"Menlo\", \"Monaco\", \"Consolas\", \"Ubuntu Mono\", \"Source Code Pro\", monospace;\n",
       "    font-size: 13px;\n",
       "    color: #555;\n",
       "    margin-left: 4px;\n",
       "    line-height: 19px;\n",
       "  }\n",
       "</style>\n",
       "<div class=\"ansiout\"></div>"
      ]
     },
     "metadata": {
      "application/vnd.databricks.v1+output": {
       "addedWidgets": {},
       "arguments": {},
       "data": "<div class=\"ansiout\"></div>",
       "datasetInfos": [],
       "metadata": {},
       "removedWidgets": [],
       "type": "html"
      }
     },
     "output_type": "display_data"
    }
   ],
   "source": [
    "# Cleaning User DataFrame\n",
    "\n",
    "def cleaning_user(df):\n",
    "    \"\"\"\n",
    "    Clean the user data DataFrame (df_user_uncleaned) by performing the following transformations:\n",
    "    1. Create a new column user_name that concatenates the information found in the first_name and last_name columns.\n",
    "    2. Drop the first_name and last_name columns from the DataFrame.\n",
    "    3. Convert the date_joined column from a string to a timestamp data type.\n",
    "    4. Reorder the DataFrame columns.\n",
    "\n",
    "    Parameters:\n",
    "    - df (pyspark.sql.DataFrame): Input DataFrame to be cleaned.\n",
    "\n",
    "    Returns:\n",
    "    - pyspark.sql.DataFrame: Cleaned DataFrame.\n",
    "    \"\"\"\n",
    "    df = df.withColumn(\"user_name\", concat(\"first_name\", lit(\" \"), \"last_name\"))\n",
    "    df = df.drop(\"first_name\", \"last_name\")\n",
    "    df = df.withColumn(\"date_joined\", to_timestamp(\"date_joined\"))\n",
    "    df = df.select(\"ind\", \"user_name\", \"age\", \"date_joined\")\n",
    "    return df\n",
    "\n",
    "        \n",
    "# Applying cleaning function\n",
    "df_user = cleaning_user(df_user_uncleaned)"
   ]
  },
  {
   "cell_type": "code",
   "execution_count": 0,
   "metadata": {
    "application/vnd.databricks.v1+cell": {
     "cellMetadata": {
      "byteLimit": 2048000,
      "rowLimit": 10000
     },
     "inputWidgets": {},
     "nuid": "38a94a4e-aa17-4440-a515-643dad435ac8",
     "showTitle": false,
     "title": ""
    }
   },
   "outputs": [
    {
     "output_type": "display_data",
     "data": {
      "text/html": [
       "<style scoped>\n",
       "  .table-result-container {\n",
       "    max-height: 300px;\n",
       "    overflow: auto;\n",
       "  }\n",
       "  table, th, td {\n",
       "    border: 1px solid black;\n",
       "    border-collapse: collapse;\n",
       "  }\n",
       "  th, td {\n",
       "    padding: 5px;\n",
       "  }\n",
       "  th {\n",
       "    text-align: left;\n",
       "  }\n",
       "</style><div class='table-result-container'><table class='table-result'><thead style='background-color: white'><tr><th>country</th><th>category</th><th>category_count</th></tr></thead><tbody><tr><td>Afghanistan</td><td>mens-fashion</td><td>3</td></tr><tr><td>Albania</td><td>art</td><td>10</td></tr><tr><td>Algeria</td><td>quotes</td><td>6</td></tr><tr><td>American Samoa</td><td>beauty</td><td>7</td></tr><tr><td>Andorra</td><td>quotes</td><td>3</td></tr><tr><td>Angola</td><td>diy-and-crafts</td><td>3</td></tr><tr><td>Anguilla</td><td>beauty</td><td>2</td></tr><tr><td>Anguilla</td><td>diy-and-crafts</td><td>2</td></tr><tr><td>Anguilla</td><td>home-decor</td><td>2</td></tr><tr><td>Antarctica (the territory South of 60 deg S)</td><td>home-decor</td><td>1</td></tr><tr><td>Antarctica (the territory South of 60 deg S)</td><td>christmas</td><td>1</td></tr><tr><td>Antarctica (the territory South of 60 deg S)</td><td>finance</td><td>1</td></tr><tr><td>Antarctica (the territory South of 60 deg S)</td><td>art</td><td>1</td></tr><tr><td>Antarctica (the territory South of 60 deg S)</td><td>tattoos</td><td>1</td></tr><tr><td>Antigua and Barbuda</td><td>christmas</td><td>2</td></tr><tr><td>Antigua and Barbuda</td><td>quotes</td><td>2</td></tr><tr><td>Argentina</td><td>tattoos</td><td>5</td></tr><tr><td>Armenia</td><td>beauty</td><td>5</td></tr><tr><td>Aruba</td><td>education</td><td>5</td></tr><tr><td>Australia</td><td>travel</td><td>4</td></tr><tr><td>Austria</td><td>travel</td><td>3</td></tr><tr><td>Azerbaijan</td><td>finance</td><td>3</td></tr><tr><td>Azerbaijan</td><td>event-planning</td><td>3</td></tr><tr><td>Bahamas</td><td>travel</td><td>2</td></tr><tr><td>Bahrain</td><td>finance</td><td>2</td></tr><tr><td>Bahrain</td><td>christmas</td><td>2</td></tr><tr><td>Bangladesh</td><td>home-decor</td><td>2</td></tr><tr><td>Bangladesh</td><td>art</td><td>2</td></tr><tr><td>Barbados</td><td>art</td><td>4</td></tr><tr><td>Belarus</td><td>travel</td><td>1</td></tr><tr><td>Belarus</td><td>event-planning</td><td>1</td></tr><tr><td>Belize</td><td>diy-and-crafts</td><td>3</td></tr><tr><td>Benin</td><td>travel</td><td>1</td></tr><tr><td>Benin</td><td>diy-and-crafts</td><td>1</td></tr><tr><td>Bermuda</td><td>christmas</td><td>2</td></tr><tr><td>Bhutan</td><td>diy-and-crafts</td><td>2</td></tr><tr><td>Bolivia</td><td>home-decor</td><td>1</td></tr><tr><td>Bosnia and Herzegovina</td><td>tattoos</td><td>2</td></tr><tr><td>Botswana</td><td>mens-fashion</td><td>1</td></tr><tr><td>Botswana</td><td>tattoos</td><td>1</td></tr><tr><td>Bouvet Island (Bouvetoya)</td><td>travel</td><td>2</td></tr><tr><td>Brazil</td><td>home-decor</td><td>2</td></tr><tr><td>British Virgin Islands</td><td>christmas</td><td>3</td></tr><tr><td>Brunei Darussalam</td><td>event-planning</td><td>1</td></tr><tr><td>Bulgaria</td><td>finance</td><td>2</td></tr><tr><td>Cambodia</td><td>christmas</td><td>2</td></tr><tr><td>Canada</td><td>travel</td><td>2</td></tr><tr><td>Canada</td><td>event-planning</td><td>2</td></tr><tr><td>Canada</td><td>christmas</td><td>2</td></tr><tr><td>Cape Verde</td><td>christmas</td><td>2</td></tr><tr><td>Cayman Islands</td><td>quotes</td><td>2</td></tr><tr><td>Central African Republic</td><td>finance</td><td>1</td></tr><tr><td>Central African Republic</td><td>art</td><td>1</td></tr><tr><td>Central African Republic</td><td>christmas</td><td>1</td></tr><tr><td>Chad</td><td>beauty</td><td>1</td></tr><tr><td>Chad</td><td>diy-and-crafts</td><td>1</td></tr><tr><td>Chad</td><td>tattoos</td><td>1</td></tr><tr><td>Chile</td><td>quotes</td><td>5</td></tr><tr><td>Christmas Island</td><td>travel</td><td>3</td></tr><tr><td>Cocos (Keeling) Islands</td><td>vehicles</td><td>2</td></tr><tr><td>Colombia</td><td>christmas</td><td>1</td></tr><tr><td>Colombia</td><td>finance</td><td>1</td></tr><tr><td>Comoros</td><td>education</td><td>2</td></tr><tr><td>Congo</td><td>art</td><td>2</td></tr><tr><td>Costa Rica</td><td>vehicles</td><td>1</td></tr><tr><td>Cote d'Ivoire</td><td>diy-and-crafts</td><td>1</td></tr><tr><td>Cote d'Ivoire</td><td>education</td><td>1</td></tr><tr><td>Croatia</td><td>finance</td><td>1</td></tr><tr><td>Cyprus</td><td>tattoos</td><td>1</td></tr><tr><td>Czech Republic</td><td>beauty</td><td>1</td></tr><tr><td>Djibouti</td><td>diy-and-crafts</td><td>1</td></tr><tr><td>Djibouti</td><td>mens-fashion</td><td>1</td></tr><tr><td>Dominica</td><td>diy-and-crafts</td><td>2</td></tr><tr><td>Dominican Republic</td><td>education</td><td>2</td></tr><tr><td>Ecuador</td><td>mens-fashion</td><td>2</td></tr><tr><td>Ecuador</td><td>christmas</td><td>2</td></tr><tr><td>Egypt</td><td>diy-and-crafts</td><td>2</td></tr><tr><td>El Salvador</td><td>travel</td><td>1</td></tr><tr><td>El Salvador</td><td>tattoos</td><td>1</td></tr><tr><td>Equatorial Guinea</td><td>quotes</td><td>2</td></tr><tr><td>Eritrea</td><td>event-planning</td><td>2</td></tr><tr><td>Estonia</td><td>event-planning</td><td>1</td></tr><tr><td>Estonia</td><td>vehicles</td><td>1</td></tr><tr><td>Estonia</td><td>education</td><td>1</td></tr><tr><td>Ethiopia</td><td>finance</td><td>1</td></tr><tr><td>Ethiopia</td><td>tattoos</td><td>1</td></tr><tr><td>Falkland Islands (Malvinas)</td><td>vehicles</td><td>2</td></tr><tr><td>Faroe Islands</td><td>tattoos</td><td>1</td></tr><tr><td>Fiji</td><td>quotes</td><td>1</td></tr><tr><td>Finland</td><td>vehicles</td><td>1</td></tr><tr><td>Finland</td><td>beauty</td><td>1</td></tr><tr><td>France</td><td>diy-and-crafts</td><td>1</td></tr><tr><td>French Guiana</td><td>quotes</td><td>2</td></tr><tr><td>French Polynesia</td><td>diy-and-crafts</td><td>2</td></tr><tr><td>French Southern Territories</td><td>home-decor</td><td>1</td></tr><tr><td>Gabon</td><td>travel</td><td>1</td></tr><tr><td>Gambia</td><td>art</td><td>1</td></tr><tr><td>Germany</td><td>education</td><td>1</td></tr><tr><td>Germany</td><td>mens-fashion</td><td>1</td></tr><tr><td>Germany</td><td>event-planning</td><td>1</td></tr><tr><td>Ghana</td><td>vehicles</td><td>1</td></tr><tr><td>Gibraltar</td><td>art</td><td>2</td></tr><tr><td>Greece</td><td>mens-fashion</td><td>2</td></tr><tr><td>Grenada</td><td>vehicles</td><td>3</td></tr><tr><td>Guam</td><td>travel</td><td>2</td></tr><tr><td>Guatemala</td><td>finance</td><td>2</td></tr><tr><td>Guinea-Bissau</td><td>tattoos</td><td>1</td></tr><tr><td>Guinea-Bissau</td><td>travel</td><td>1</td></tr><tr><td>Guyana</td><td>beauty</td><td>1</td></tr><tr><td>Heard Island and McDonald Islands</td><td>mens-fashion</td><td>1</td></tr><tr><td>Holy See (Vatican City State)</td><td>tattoos</td><td>1</td></tr><tr><td>Iceland</td><td>christmas</td><td>1</td></tr><tr><td>India</td><td>art</td><td>2</td></tr><tr><td>Isle of Man</td><td>art</td><td>2</td></tr><tr><td>Israel</td><td>quotes</td><td>2</td></tr><tr><td>Italy</td><td>christmas</td><td>1</td></tr><tr><td>Jamaica</td><td>finance</td><td>3</td></tr><tr><td>Japan</td><td>art</td><td>1</td></tr><tr><td>Jersey</td><td>travel</td><td>1</td></tr><tr><td>Jersey</td><td>vehicles</td><td>1</td></tr><tr><td>Kenya</td><td>diy-and-crafts</td><td>1</td></tr><tr><td>Kenya</td><td>mens-fashion</td><td>1</td></tr><tr><td>Kiribati</td><td>quotes</td><td>2</td></tr><tr><td>Korea</td><td>art</td><td>1</td></tr><tr><td>Kuwait</td><td>quotes</td><td>2</td></tr><tr><td>Kyrgyz Republic</td><td>finance</td><td>2</td></tr><tr><td>Lebanon</td><td>mens-fashion</td><td>1</td></tr><tr><td>Lebanon</td><td>event-planning</td><td>1</td></tr><tr><td>Lesotho</td><td>art</td><td>1</td></tr><tr><td>Libyan Arab Jamahiriya</td><td>vehicles</td><td>4</td></tr><tr><td>Lithuania</td><td>education</td><td>1</td></tr><tr><td>Lithuania</td><td>art</td><td>1</td></tr><tr><td>Macao</td><td>event-planning</td><td>1</td></tr><tr><td>Macedonia</td><td>beauty</td><td>1</td></tr><tr><td>Madagascar</td><td>event-planning</td><td>2</td></tr><tr><td>Maldives</td><td>beauty</td><td>2</td></tr><tr><td>Mali</td><td>home-decor</td><td>1</td></tr><tr><td>Marshall Islands</td><td>home-decor</td><td>2</td></tr><tr><td>Marshall Islands</td><td>finance</td><td>2</td></tr><tr><td>Mauritania</td><td>education</td><td>2</td></tr><tr><td>Monaco</td><td>vehicles</td><td>1</td></tr><tr><td>Monaco</td><td>art</td><td>1</td></tr><tr><td>Montserrat</td><td>event-planning</td><td>1</td></tr><tr><td>Montserrat</td><td>art</td><td>1</td></tr><tr><td>Morocco</td><td>christmas</td><td>1</td></tr><tr><td>Mozambique</td><td>home-decor</td><td>1</td></tr><tr><td>Mozambique</td><td>art</td><td>1</td></tr><tr><td>Myanmar</td><td>vehicles</td><td>1</td></tr><tr><td>Namibia</td><td>beauty</td><td>1</td></tr><tr><td>Nepal</td><td>christmas</td><td>1</td></tr><tr><td>Nepal</td><td>diy-and-crafts</td><td>1</td></tr><tr><td>Netherlands Antilles</td><td>art</td><td>1</td></tr><tr><td>Netherlands Antilles</td><td>vehicles</td><td>1</td></tr><tr><td>Netherlands Antilles</td><td>mens-fashion</td><td>1</td></tr><tr><td>New Caledonia</td><td>mens-fashion</td><td>1</td></tr><tr><td>New Caledonia</td><td>vehicles</td><td>1</td></tr><tr><td>Nicaragua</td><td>tattoos</td><td>2</td></tr><tr><td>Niger</td><td>art</td><td>2</td></tr><tr><td>Norfolk Island</td><td>beauty</td><td>1</td></tr><tr><td>Norway</td><td>travel</td><td>2</td></tr><tr><td>Oman</td><td>finance</td><td>2</td></tr><tr><td>Palau</td><td>tattoos</td><td>1</td></tr><tr><td>Palestinian Territory</td><td>home-decor</td><td>1</td></tr><tr><td>Panama</td><td>travel</td><td>1</td></tr><tr><td>Papua New Guinea</td><td>quotes</td><td>1</td></tr><tr><td>Philippines</td><td>event-planning</td><td>2</td></tr><tr><td>Pitcairn Islands</td><td>diy-and-crafts</td><td>1</td></tr><tr><td>Poland</td><td>event-planning</td><td>1</td></tr><tr><td>Poland</td><td>travel</td><td>1</td></tr><tr><td>Portugal</td><td>diy-and-crafts</td><td>1</td></tr><tr><td>Rwanda</td><td>education</td><td>1</td></tr><tr><td>Saint Helena</td><td>beauty</td><td>1</td></tr><tr><td>Saint Kitts and Nevis</td><td>vehicles</td><td>2</td></tr><tr><td>Saint Pierre and Miquelon</td><td>beauty</td><td>1</td></tr><tr><td>Saint Vincent and the Grenadines</td><td>christmas</td><td>1</td></tr><tr><td>Samoa</td><td>christmas</td><td>1</td></tr><tr><td>Samoa</td><td>art</td><td>1</td></tr><tr><td>Sao Tome and Principe</td><td>finance</td><td>1</td></tr><tr><td>Seychelles</td><td>beauty</td><td>2</td></tr><tr><td>Solomon Islands</td><td>event-planning</td><td>3</td></tr><tr><td>Sudan</td><td>mens-fashion</td><td>1</td></tr><tr><td>Switzerland</td><td>home-decor</td><td>1</td></tr><tr><td>Tanzania</td><td>art</td><td>1</td></tr><tr><td>Tanzania</td><td>travel</td><td>1</td></tr><tr><td>Tanzania</td><td>vehicles</td><td>1</td></tr><tr><td>Togo</td><td>christmas</td><td>2</td></tr><tr><td>Tonga</td><td>beauty</td><td>1</td></tr><tr><td>Trinidad and Tobago</td><td>christmas</td><td>1</td></tr><tr><td>Trinidad and Tobago</td><td>quotes</td><td>1</td></tr><tr><td>Tunisia</td><td>diy-and-crafts</td><td>2</td></tr><tr><td>Turkey</td><td>education</td><td>1</td></tr><tr><td>Uganda</td><td>home-decor</td><td>1</td></tr><tr><td>United States Virgin Islands</td><td>art</td><td>1</td></tr><tr><td>Wallis and Futuna</td><td>beauty</td><td>1</td></tr><tr><td>Zambia</td><td>mens-fashion</td><td>1</td></tr><tr><td>Zimbabwe</td><td>quotes</td><td>1</td></tr><tr><td>Zimbabwe</td><td>christmas</td><td>1</td></tr></tbody></table></div>"
      ]
     },
     "metadata": {
      "application/vnd.databricks.v1+output": {
       "addedWidgets": {},
       "aggData": [],
       "aggError": "",
       "aggOverflow": false,
       "aggSchema": [],
       "aggSeriesLimitReached": false,
       "aggType": "",
       "arguments": {},
       "columnCustomDisplayInfos": {},
       "data": [
        [
         "Afghanistan",
         "mens-fashion",
         3
        ],
        [
         "Albania",
         "art",
         10
        ],
        [
         "Algeria",
         "quotes",
         6
        ],
        [
         "American Samoa",
         "beauty",
         7
        ],
        [
         "Andorra",
         "quotes",
         3
        ],
        [
         "Angola",
         "diy-and-crafts",
         3
        ],
        [
         "Anguilla",
         "beauty",
         2
        ],
        [
         "Anguilla",
         "diy-and-crafts",
         2
        ],
        [
         "Anguilla",
         "home-decor",
         2
        ],
        [
         "Antarctica (the territory South of 60 deg S)",
         "home-decor",
         1
        ],
        [
         "Antarctica (the territory South of 60 deg S)",
         "christmas",
         1
        ],
        [
         "Antarctica (the territory South of 60 deg S)",
         "finance",
         1
        ],
        [
         "Antarctica (the territory South of 60 deg S)",
         "art",
         1
        ],
        [
         "Antarctica (the territory South of 60 deg S)",
         "tattoos",
         1
        ],
        [
         "Antigua and Barbuda",
         "christmas",
         2
        ],
        [
         "Antigua and Barbuda",
         "quotes",
         2
        ],
        [
         "Argentina",
         "tattoos",
         5
        ],
        [
         "Armenia",
         "beauty",
         5
        ],
        [
         "Aruba",
         "education",
         5
        ],
        [
         "Australia",
         "travel",
         4
        ],
        [
         "Austria",
         "travel",
         3
        ],
        [
         "Azerbaijan",
         "finance",
         3
        ],
        [
         "Azerbaijan",
         "event-planning",
         3
        ],
        [
         "Bahamas",
         "travel",
         2
        ],
        [
         "Bahrain",
         "finance",
         2
        ],
        [
         "Bahrain",
         "christmas",
         2
        ],
        [
         "Bangladesh",
         "home-decor",
         2
        ],
        [
         "Bangladesh",
         "art",
         2
        ],
        [
         "Barbados",
         "art",
         4
        ],
        [
         "Belarus",
         "travel",
         1
        ],
        [
         "Belarus",
         "event-planning",
         1
        ],
        [
         "Belize",
         "diy-and-crafts",
         3
        ],
        [
         "Benin",
         "travel",
         1
        ],
        [
         "Benin",
         "diy-and-crafts",
         1
        ],
        [
         "Bermuda",
         "christmas",
         2
        ],
        [
         "Bhutan",
         "diy-and-crafts",
         2
        ],
        [
         "Bolivia",
         "home-decor",
         1
        ],
        [
         "Bosnia and Herzegovina",
         "tattoos",
         2
        ],
        [
         "Botswana",
         "mens-fashion",
         1
        ],
        [
         "Botswana",
         "tattoos",
         1
        ],
        [
         "Bouvet Island (Bouvetoya)",
         "travel",
         2
        ],
        [
         "Brazil",
         "home-decor",
         2
        ],
        [
         "British Virgin Islands",
         "christmas",
         3
        ],
        [
         "Brunei Darussalam",
         "event-planning",
         1
        ],
        [
         "Bulgaria",
         "finance",
         2
        ],
        [
         "Cambodia",
         "christmas",
         2
        ],
        [
         "Canada",
         "travel",
         2
        ],
        [
         "Canada",
         "event-planning",
         2
        ],
        [
         "Canada",
         "christmas",
         2
        ],
        [
         "Cape Verde",
         "christmas",
         2
        ],
        [
         "Cayman Islands",
         "quotes",
         2
        ],
        [
         "Central African Republic",
         "finance",
         1
        ],
        [
         "Central African Republic",
         "art",
         1
        ],
        [
         "Central African Republic",
         "christmas",
         1
        ],
        [
         "Chad",
         "beauty",
         1
        ],
        [
         "Chad",
         "diy-and-crafts",
         1
        ],
        [
         "Chad",
         "tattoos",
         1
        ],
        [
         "Chile",
         "quotes",
         5
        ],
        [
         "Christmas Island",
         "travel",
         3
        ],
        [
         "Cocos (Keeling) Islands",
         "vehicles",
         2
        ],
        [
         "Colombia",
         "christmas",
         1
        ],
        [
         "Colombia",
         "finance",
         1
        ],
        [
         "Comoros",
         "education",
         2
        ],
        [
         "Congo",
         "art",
         2
        ],
        [
         "Costa Rica",
         "vehicles",
         1
        ],
        [
         "Cote d'Ivoire",
         "diy-and-crafts",
         1
        ],
        [
         "Cote d'Ivoire",
         "education",
         1
        ],
        [
         "Croatia",
         "finance",
         1
        ],
        [
         "Cyprus",
         "tattoos",
         1
        ],
        [
         "Czech Republic",
         "beauty",
         1
        ],
        [
         "Djibouti",
         "diy-and-crafts",
         1
        ],
        [
         "Djibouti",
         "mens-fashion",
         1
        ],
        [
         "Dominica",
         "diy-and-crafts",
         2
        ],
        [
         "Dominican Republic",
         "education",
         2
        ],
        [
         "Ecuador",
         "mens-fashion",
         2
        ],
        [
         "Ecuador",
         "christmas",
         2
        ],
        [
         "Egypt",
         "diy-and-crafts",
         2
        ],
        [
         "El Salvador",
         "travel",
         1
        ],
        [
         "El Salvador",
         "tattoos",
         1
        ],
        [
         "Equatorial Guinea",
         "quotes",
         2
        ],
        [
         "Eritrea",
         "event-planning",
         2
        ],
        [
         "Estonia",
         "event-planning",
         1
        ],
        [
         "Estonia",
         "vehicles",
         1
        ],
        [
         "Estonia",
         "education",
         1
        ],
        [
         "Ethiopia",
         "finance",
         1
        ],
        [
         "Ethiopia",
         "tattoos",
         1
        ],
        [
         "Falkland Islands (Malvinas)",
         "vehicles",
         2
        ],
        [
         "Faroe Islands",
         "tattoos",
         1
        ],
        [
         "Fiji",
         "quotes",
         1
        ],
        [
         "Finland",
         "vehicles",
         1
        ],
        [
         "Finland",
         "beauty",
         1
        ],
        [
         "France",
         "diy-and-crafts",
         1
        ],
        [
         "French Guiana",
         "quotes",
         2
        ],
        [
         "French Polynesia",
         "diy-and-crafts",
         2
        ],
        [
         "French Southern Territories",
         "home-decor",
         1
        ],
        [
         "Gabon",
         "travel",
         1
        ],
        [
         "Gambia",
         "art",
         1
        ],
        [
         "Germany",
         "education",
         1
        ],
        [
         "Germany",
         "mens-fashion",
         1
        ],
        [
         "Germany",
         "event-planning",
         1
        ],
        [
         "Ghana",
         "vehicles",
         1
        ],
        [
         "Gibraltar",
         "art",
         2
        ],
        [
         "Greece",
         "mens-fashion",
         2
        ],
        [
         "Grenada",
         "vehicles",
         3
        ],
        [
         "Guam",
         "travel",
         2
        ],
        [
         "Guatemala",
         "finance",
         2
        ],
        [
         "Guinea-Bissau",
         "tattoos",
         1
        ],
        [
         "Guinea-Bissau",
         "travel",
         1
        ],
        [
         "Guyana",
         "beauty",
         1
        ],
        [
         "Heard Island and McDonald Islands",
         "mens-fashion",
         1
        ],
        [
         "Holy See (Vatican City State)",
         "tattoos",
         1
        ],
        [
         "Iceland",
         "christmas",
         1
        ],
        [
         "India",
         "art",
         2
        ],
        [
         "Isle of Man",
         "art",
         2
        ],
        [
         "Israel",
         "quotes",
         2
        ],
        [
         "Italy",
         "christmas",
         1
        ],
        [
         "Jamaica",
         "finance",
         3
        ],
        [
         "Japan",
         "art",
         1
        ],
        [
         "Jersey",
         "travel",
         1
        ],
        [
         "Jersey",
         "vehicles",
         1
        ],
        [
         "Kenya",
         "diy-and-crafts",
         1
        ],
        [
         "Kenya",
         "mens-fashion",
         1
        ],
        [
         "Kiribati",
         "quotes",
         2
        ],
        [
         "Korea",
         "art",
         1
        ],
        [
         "Kuwait",
         "quotes",
         2
        ],
        [
         "Kyrgyz Republic",
         "finance",
         2
        ],
        [
         "Lebanon",
         "mens-fashion",
         1
        ],
        [
         "Lebanon",
         "event-planning",
         1
        ],
        [
         "Lesotho",
         "art",
         1
        ],
        [
         "Libyan Arab Jamahiriya",
         "vehicles",
         4
        ],
        [
         "Lithuania",
         "education",
         1
        ],
        [
         "Lithuania",
         "art",
         1
        ],
        [
         "Macao",
         "event-planning",
         1
        ],
        [
         "Macedonia",
         "beauty",
         1
        ],
        [
         "Madagascar",
         "event-planning",
         2
        ],
        [
         "Maldives",
         "beauty",
         2
        ],
        [
         "Mali",
         "home-decor",
         1
        ],
        [
         "Marshall Islands",
         "home-decor",
         2
        ],
        [
         "Marshall Islands",
         "finance",
         2
        ],
        [
         "Mauritania",
         "education",
         2
        ],
        [
         "Monaco",
         "vehicles",
         1
        ],
        [
         "Monaco",
         "art",
         1
        ],
        [
         "Montserrat",
         "event-planning",
         1
        ],
        [
         "Montserrat",
         "art",
         1
        ],
        [
         "Morocco",
         "christmas",
         1
        ],
        [
         "Mozambique",
         "home-decor",
         1
        ],
        [
         "Mozambique",
         "art",
         1
        ],
        [
         "Myanmar",
         "vehicles",
         1
        ],
        [
         "Namibia",
         "beauty",
         1
        ],
        [
         "Nepal",
         "christmas",
         1
        ],
        [
         "Nepal",
         "diy-and-crafts",
         1
        ],
        [
         "Netherlands Antilles",
         "art",
         1
        ],
        [
         "Netherlands Antilles",
         "vehicles",
         1
        ],
        [
         "Netherlands Antilles",
         "mens-fashion",
         1
        ],
        [
         "New Caledonia",
         "mens-fashion",
         1
        ],
        [
         "New Caledonia",
         "vehicles",
         1
        ],
        [
         "Nicaragua",
         "tattoos",
         2
        ],
        [
         "Niger",
         "art",
         2
        ],
        [
         "Norfolk Island",
         "beauty",
         1
        ],
        [
         "Norway",
         "travel",
         2
        ],
        [
         "Oman",
         "finance",
         2
        ],
        [
         "Palau",
         "tattoos",
         1
        ],
        [
         "Palestinian Territory",
         "home-decor",
         1
        ],
        [
         "Panama",
         "travel",
         1
        ],
        [
         "Papua New Guinea",
         "quotes",
         1
        ],
        [
         "Philippines",
         "event-planning",
         2
        ],
        [
         "Pitcairn Islands",
         "diy-and-crafts",
         1
        ],
        [
         "Poland",
         "event-planning",
         1
        ],
        [
         "Poland",
         "travel",
         1
        ],
        [
         "Portugal",
         "diy-and-crafts",
         1
        ],
        [
         "Rwanda",
         "education",
         1
        ],
        [
         "Saint Helena",
         "beauty",
         1
        ],
        [
         "Saint Kitts and Nevis",
         "vehicles",
         2
        ],
        [
         "Saint Pierre and Miquelon",
         "beauty",
         1
        ],
        [
         "Saint Vincent and the Grenadines",
         "christmas",
         1
        ],
        [
         "Samoa",
         "christmas",
         1
        ],
        [
         "Samoa",
         "art",
         1
        ],
        [
         "Sao Tome and Principe",
         "finance",
         1
        ],
        [
         "Seychelles",
         "beauty",
         2
        ],
        [
         "Solomon Islands",
         "event-planning",
         3
        ],
        [
         "Sudan",
         "mens-fashion",
         1
        ],
        [
         "Switzerland",
         "home-decor",
         1
        ],
        [
         "Tanzania",
         "art",
         1
        ],
        [
         "Tanzania",
         "travel",
         1
        ],
        [
         "Tanzania",
         "vehicles",
         1
        ],
        [
         "Togo",
         "christmas",
         2
        ],
        [
         "Tonga",
         "beauty",
         1
        ],
        [
         "Trinidad and Tobago",
         "christmas",
         1
        ],
        [
         "Trinidad and Tobago",
         "quotes",
         1
        ],
        [
         "Tunisia",
         "diy-and-crafts",
         2
        ],
        [
         "Turkey",
         "education",
         1
        ],
        [
         "Uganda",
         "home-decor",
         1
        ],
        [
         "United States Virgin Islands",
         "art",
         1
        ],
        [
         "Wallis and Futuna",
         "beauty",
         1
        ],
        [
         "Zambia",
         "mens-fashion",
         1
        ],
        [
         "Zimbabwe",
         "quotes",
         1
        ],
        [
         "Zimbabwe",
         "christmas",
         1
        ]
       ],
       "datasetInfos": [],
       "dbfsResultPath": null,
       "isJsonSchema": true,
       "metadata": {},
       "overflow": false,
       "plotOptions": {
        "customPlotOptions": {},
        "displayType": "table",
        "pivotAggregation": null,
        "pivotColumns": null,
        "xColumns": null,
        "yColumns": null
       },
       "removedWidgets": [],
       "schema": [
        {
         "metadata": "{}",
         "name": "country",
         "type": "\"string\""
        },
        {
         "metadata": "{}",
         "name": "category",
         "type": "\"string\""
        },
        {
         "metadata": "{}",
         "name": "category_count",
         "type": "\"long\""
        }
       ],
       "type": "table"
      }
     },
     "output_type": "display_data"
    }
   ],
   "source": [
    "# Query 1 - Most Popular Category in Each Country\n",
    "\n",
    "# Join the df_pin DataFrame with the df_geo DataFrame using the \"ind\" column\n",
    "df_pin_geo = df_pin.join(df_geo, \"ind\", \"inner\")\n",
    "\n",
    "# Window specification for ranking within each country based on category_count\n",
    "windowSpec_1 = Window.partitionBy(\"country\").orderBy(col(\"category_count\").desc())\n",
    "\n",
    "# Count occurrences of each category within each country and rank them\n",
    "query_1 = df_pin_geo.groupBy(\"country\", \"category\") \\\n",
    "    .agg(count(\"category\").alias(\"category_count\")) \\\n",
    "    .withColumn(\"rank\", rank().over(windowSpec_1)) \\\n",
    "    .filter(col(\"rank\") == 1) \\\n",
    "    .drop(\"rank\")\n",
    "\n",
    "# Display the result\n",
    "display(query_1)"
   ]
  },
  {
   "cell_type": "code",
   "execution_count": 0,
   "metadata": {
    "application/vnd.databricks.v1+cell": {
     "cellMetadata": {
      "byteLimit": 2048000,
      "rowLimit": 10000
     },
     "inputWidgets": {},
     "nuid": "a6d03f37-f0cd-4af0-a19e-d91888777d56",
     "showTitle": false,
     "title": ""
    }
   },
   "outputs": [
    {
     "output_type": "display_data",
     "data": {
      "text/html": [
       "<style scoped>\n",
       "  .table-result-container {\n",
       "    max-height: 300px;\n",
       "    overflow: auto;\n",
       "  }\n",
       "  table, th, td {\n",
       "    border: 1px solid black;\n",
       "    border-collapse: collapse;\n",
       "  }\n",
       "  th, td {\n",
       "    padding: 5px;\n",
       "  }\n",
       "  th {\n",
       "    text-align: left;\n",
       "  }\n",
       "</style><div class='table-result-container'><table class='table-result'><thead style='background-color: white'><tr><th>post_year</th><th>category</th><th>category_count</th></tr></thead><tbody><tr><td>2018</td><td>quotes</td><td>13</td></tr><tr><td>2018</td><td>christmas</td><td>11</td></tr><tr><td>2018</td><td>travel</td><td>10</td></tr><tr><td>2018</td><td>beauty</td><td>9</td></tr><tr><td>2018</td><td>art</td><td>7</td></tr><tr><td>2018</td><td>home-decor</td><td>7</td></tr><tr><td>2018</td><td>diy-and-crafts</td><td>7</td></tr><tr><td>2018</td><td>mens-fashion</td><td>6</td></tr><tr><td>2018</td><td>tattoos</td><td>6</td></tr><tr><td>2018</td><td>education</td><td>6</td></tr><tr><td>2018</td><td>event-planning</td><td>6</td></tr><tr><td>2018</td><td>finance</td><td>4</td></tr><tr><td>2018</td><td>vehicles</td><td>4</td></tr><tr><td>2019</td><td>art</td><td>12</td></tr><tr><td>2019</td><td>vehicles</td><td>12</td></tr><tr><td>2019</td><td>event-planning</td><td>12</td></tr><tr><td>2019</td><td>diy-and-crafts</td><td>12</td></tr><tr><td>2019</td><td>tattoos</td><td>12</td></tr><tr><td>2019</td><td>travel</td><td>9</td></tr><tr><td>2019</td><td>education</td><td>9</td></tr><tr><td>2019</td><td>mens-fashion</td><td>8</td></tr><tr><td>2019</td><td>christmas</td><td>7</td></tr><tr><td>2019</td><td>quotes</td><td>6</td></tr><tr><td>2019</td><td>beauty</td><td>6</td></tr><tr><td>2019</td><td>finance</td><td>5</td></tr><tr><td>2019</td><td>home-decor</td><td>3</td></tr><tr><td>2020</td><td>art</td><td>13</td></tr><tr><td>2020</td><td>finance</td><td>11</td></tr><tr><td>2020</td><td>christmas</td><td>11</td></tr><tr><td>2020</td><td>home-decor</td><td>8</td></tr><tr><td>2020</td><td>travel</td><td>8</td></tr><tr><td>2020</td><td>tattoos</td><td>8</td></tr><tr><td>2020</td><td>beauty</td><td>6</td></tr><tr><td>2020</td><td>vehicles</td><td>5</td></tr><tr><td>2020</td><td>diy-and-crafts</td><td>5</td></tr><tr><td>2020</td><td>quotes</td><td>4</td></tr><tr><td>2020</td><td>event-planning</td><td>4</td></tr><tr><td>2020</td><td>mens-fashion</td><td>4</td></tr><tr><td>2020</td><td>education</td><td>4</td></tr><tr><td>2021</td><td>diy-and-crafts</td><td>10</td></tr><tr><td>2021</td><td>quotes</td><td>7</td></tr><tr><td>2021</td><td>finance</td><td>7</td></tr><tr><td>2021</td><td>travel</td><td>6</td></tr><tr><td>2021</td><td>mens-fashion</td><td>6</td></tr><tr><td>2021</td><td>tattoos</td><td>6</td></tr><tr><td>2021</td><td>christmas</td><td>6</td></tr><tr><td>2021</td><td>art</td><td>6</td></tr><tr><td>2021</td><td>home-decor</td><td>6</td></tr><tr><td>2021</td><td>education</td><td>5</td></tr><tr><td>2021</td><td>event-planning</td><td>4</td></tr><tr><td>2021</td><td>vehicles</td><td>3</td></tr><tr><td>2021</td><td>beauty</td><td>3</td></tr><tr><td>2022</td><td>christmas</td><td>10</td></tr><tr><td>2022</td><td>art</td><td>10</td></tr><tr><td>2022</td><td>beauty</td><td>8</td></tr><tr><td>2022</td><td>diy-and-crafts</td><td>7</td></tr><tr><td>2022</td><td>vehicles</td><td>5</td></tr><tr><td>2022</td><td>travel</td><td>5</td></tr><tr><td>2022</td><td>mens-fashion</td><td>5</td></tr><tr><td>2022</td><td>education</td><td>4</td></tr><tr><td>2022</td><td>quotes</td><td>4</td></tr><tr><td>2022</td><td>tattoos</td><td>4</td></tr><tr><td>2022</td><td>home-decor</td><td>3</td></tr><tr><td>2022</td><td>event-planning</td><td>2</td></tr><tr><td>2022</td><td>finance</td><td>2</td></tr></tbody></table></div>"
      ]
     },
     "metadata": {
      "application/vnd.databricks.v1+output": {
       "addedWidgets": {},
       "aggData": [],
       "aggError": "",
       "aggOverflow": false,
       "aggSchema": [],
       "aggSeriesLimitReached": false,
       "aggType": "",
       "arguments": {},
       "columnCustomDisplayInfos": {},
       "data": [
        [
         2018,
         "quotes",
         13
        ],
        [
         2018,
         "christmas",
         11
        ],
        [
         2018,
         "travel",
         10
        ],
        [
         2018,
         "beauty",
         9
        ],
        [
         2018,
         "art",
         7
        ],
        [
         2018,
         "home-decor",
         7
        ],
        [
         2018,
         "diy-and-crafts",
         7
        ],
        [
         2018,
         "mens-fashion",
         6
        ],
        [
         2018,
         "tattoos",
         6
        ],
        [
         2018,
         "education",
         6
        ],
        [
         2018,
         "event-planning",
         6
        ],
        [
         2018,
         "finance",
         4
        ],
        [
         2018,
         "vehicles",
         4
        ],
        [
         2019,
         "art",
         12
        ],
        [
         2019,
         "vehicles",
         12
        ],
        [
         2019,
         "event-planning",
         12
        ],
        [
         2019,
         "diy-and-crafts",
         12
        ],
        [
         2019,
         "tattoos",
         12
        ],
        [
         2019,
         "travel",
         9
        ],
        [
         2019,
         "education",
         9
        ],
        [
         2019,
         "mens-fashion",
         8
        ],
        [
         2019,
         "christmas",
         7
        ],
        [
         2019,
         "quotes",
         6
        ],
        [
         2019,
         "beauty",
         6
        ],
        [
         2019,
         "finance",
         5
        ],
        [
         2019,
         "home-decor",
         3
        ],
        [
         2020,
         "art",
         13
        ],
        [
         2020,
         "finance",
         11
        ],
        [
         2020,
         "christmas",
         11
        ],
        [
         2020,
         "home-decor",
         8
        ],
        [
         2020,
         "travel",
         8
        ],
        [
         2020,
         "tattoos",
         8
        ],
        [
         2020,
         "beauty",
         6
        ],
        [
         2020,
         "vehicles",
         5
        ],
        [
         2020,
         "diy-and-crafts",
         5
        ],
        [
         2020,
         "quotes",
         4
        ],
        [
         2020,
         "event-planning",
         4
        ],
        [
         2020,
         "mens-fashion",
         4
        ],
        [
         2020,
         "education",
         4
        ],
        [
         2021,
         "diy-and-crafts",
         10
        ],
        [
         2021,
         "quotes",
         7
        ],
        [
         2021,
         "finance",
         7
        ],
        [
         2021,
         "travel",
         6
        ],
        [
         2021,
         "mens-fashion",
         6
        ],
        [
         2021,
         "tattoos",
         6
        ],
        [
         2021,
         "christmas",
         6
        ],
        [
         2021,
         "art",
         6
        ],
        [
         2021,
         "home-decor",
         6
        ],
        [
         2021,
         "education",
         5
        ],
        [
         2021,
         "event-planning",
         4
        ],
        [
         2021,
         "vehicles",
         3
        ],
        [
         2021,
         "beauty",
         3
        ],
        [
         2022,
         "christmas",
         10
        ],
        [
         2022,
         "art",
         10
        ],
        [
         2022,
         "beauty",
         8
        ],
        [
         2022,
         "diy-and-crafts",
         7
        ],
        [
         2022,
         "vehicles",
         5
        ],
        [
         2022,
         "travel",
         5
        ],
        [
         2022,
         "mens-fashion",
         5
        ],
        [
         2022,
         "education",
         4
        ],
        [
         2022,
         "quotes",
         4
        ],
        [
         2022,
         "tattoos",
         4
        ],
        [
         2022,
         "home-decor",
         3
        ],
        [
         2022,
         "event-planning",
         2
        ],
        [
         2022,
         "finance",
         2
        ]
       ],
       "datasetInfos": [],
       "dbfsResultPath": null,
       "isJsonSchema": true,
       "metadata": {},
       "overflow": false,
       "plotOptions": {
        "customPlotOptions": {},
        "displayType": "table",
        "pivotAggregation": null,
        "pivotColumns": null,
        "xColumns": null,
        "yColumns": null
       },
       "removedWidgets": [],
       "schema": [
        {
         "metadata": "{}",
         "name": "post_year",
         "type": "\"integer\""
        },
        {
         "metadata": "{}",
         "name": "category",
         "type": "\"string\""
        },
        {
         "metadata": "{}",
         "name": "category_count",
         "type": "\"long\""
        }
       ],
       "type": "table"
      }
     },
     "output_type": "display_data"
    }
   ],
   "source": [
    "# Query 2 - Most Popular Category Each Year (2018-2022)\n",
    "\n",
    "# Perform grouping, aggregation, and ordering in a single step\n",
    "query_2 = df_pin_geo.withColumn(\"post_year\", year(col(\"timestamp\"))) \\\n",
    "    .filter(col(\"post_year\").between(2018, 2022)) \\\n",
    "    .groupBy(\"post_year\", \"category\") \\\n",
    "    .agg(count(\"category\").alias(\"category_count\")) \\\n",
    "    .orderBy(\"post_year\", desc(\"category_count\"))\n",
    "\n",
    "# Display the result\n",
    "display(query_2)"
   ]
  },
  {
   "cell_type": "code",
   "execution_count": 0,
   "metadata": {
    "application/vnd.databricks.v1+cell": {
     "cellMetadata": {
      "byteLimit": 2048000,
      "rowLimit": 10000
     },
     "inputWidgets": {},
     "nuid": "3aae147f-5fa4-47a5-94e6-8d8dd06aafeb",
     "showTitle": false,
     "title": ""
    }
   },
   "outputs": [
    {
     "output_type": "display_data",
     "data": {
      "text/html": [
       "<style scoped>\n",
       "  .table-result-container {\n",
       "    max-height: 300px;\n",
       "    overflow: auto;\n",
       "  }\n",
       "  table, th, td {\n",
       "    border: 1px solid black;\n",
       "    border-collapse: collapse;\n",
       "  }\n",
       "  th, td {\n",
       "    padding: 5px;\n",
       "  }\n",
       "  th {\n",
       "    text-align: left;\n",
       "  }\n",
       "</style><div class='table-result-container'><table class='table-result'><thead style='background-color: white'><tr><th>country</th><th>poster_name</th><th>follower_count</th></tr></thead><tbody><tr><td>Algeria</td><td>YourTango</td><td>942000</td></tr><tr><td>Lesotho</td><td>The Guardian</td><td>908000</td></tr><tr><td>Armenia</td><td>Michelle {CraftyMorning.com}</td><td>892000</td></tr><tr><td>Aruba</td><td>GQ Magazine</td><td>874000</td></tr><tr><td>Trinidad and Tobago</td><td>Red Magazine</td><td>872000</td></tr><tr><td>Central African Republic</td><td>PureWow</td><td>868000</td></tr><tr><td>Argentina</td><td>Next Luxury</td><td>800000</td></tr><tr><td>Andorra</td><td>Glaminati</td><td>799000</td></tr><tr><td>Algeria</td><td>SheKnows</td><td>787000</td></tr><tr><td>Armenia</td><td>DIYnCrafts.Com</td><td>746000</td></tr><tr><td>Afghanistan</td><td>TheUnstitchd</td><td>723000</td></tr><tr><td>Bangladesh</td><td>Smart School House</td><td>673000</td></tr><tr><td>Pitcairn Islands</td><td>Marla Meridith</td><td>671000</td></tr><tr><td>Aruba</td><td>One Kindesign</td><td>657000</td></tr><tr><td>Lebanon</td><td>EtsyUK</td><td>634000</td></tr><tr><td>Armenia</td><td>ArchitectureArtDesigns</td><td>616000</td></tr><tr><td>Algeria</td><td>Mens Fashion - LIFESTYLE BY PS </td><td>613000</td></tr><tr><td>Bulgaria</td><td>A Piece of Rainbow</td><td>603000</td></tr><tr><td>Norway</td><td>Androf | Best DIY & Ideas | Unique Drawing | Amazing Art</td><td>544000</td></tr><tr><td>Angola</td><td>CraftGossip.com</td><td>502000</td></tr><tr><td>Antarctica (the territory South of 60 deg S)</td><td>HikenDip</td><td>500000</td></tr><tr><td>Albania</td><td>WeAreTeachers</td><td>500000</td></tr><tr><td>Angola</td><td>The Everygirl</td><td>496000</td></tr><tr><td>American Samoa</td><td>aufeminin</td><td>494000</td></tr><tr><td>Heard Island and McDonald Islands</td><td>Real Men Real Style</td><td>487000</td></tr><tr><td>Albania</td><td>One Little Project</td><td>472000</td></tr><tr><td>Algeria</td><td>Hand Luggage Only</td><td>459000</td></tr><tr><td>Italy</td><td>Setting for Four</td><td>435000</td></tr><tr><td>Barbados</td><td>The Creativity Exchange</td><td>410000</td></tr><tr><td>Belize</td><td>Julia Berolzheimer</td><td>399000</td></tr><tr><td>Bosnia and Herzegovina</td><td>Stylesatlife</td><td>388000</td></tr><tr><td>Cayman Islands</td><td>How Wee Learn</td><td>383000</td></tr><tr><td>Bangladesh</td><td>Suburban Men</td><td>383000</td></tr><tr><td>Afghanistan</td><td>Home Stories A to Z</td><td>362000</td></tr><tr><td>Maldives</td><td>Passion For Savings</td><td>330000</td></tr><tr><td>Algeria</td><td>ELLE Germany</td><td>326000</td></tr><tr><td>Wallis and Futuna</td><td>Seventeen</td><td>320000</td></tr><tr><td>Belarus</td><td>Something Turquoise</td><td>312000</td></tr><tr><td>Antigua and Barbuda</td><td>Sumcoco | Decor Ideas, Hairstyles, Nails Fashion Advice</td><td>306000</td></tr><tr><td>Colombia</td><td>Abbi Kirsten at CC Designs | Paper Flower Templates & Tutorials </td><td>297000</td></tr><tr><td>Belize</td><td>Easy Kids Crafts & Activities | Preschool & Kindergarten Ideas</td><td>267000</td></tr><tr><td>British Virgin Islands</td><td>Kitchen Fun With My 3 Sons</td><td>245000</td></tr><tr><td>French Guiana</td><td>Sweet Red Poppy Free Sewing Patterns, Cut Files & Craft Tutorials</td><td>241000</td></tr><tr><td>Albania</td><td>ArtsyCraftsyMom | Art, Craft & DIY ideas</td><td>229000</td></tr><tr><td>Monaco</td><td>Artists Network</td><td>227000</td></tr><tr><td>Chad</td><td>Glued To My Crafts</td><td>226000</td></tr><tr><td>Samoa</td><td>Chic Pursuit</td><td>222000</td></tr><tr><td>Nepal</td><td>Christie @Childhood101</td><td>222000</td></tr><tr><td>Guam</td><td>Amanda Green Bottoms @ kevinandamanda.com</td><td>219000</td></tr><tr><td>Aruba</td><td>TheTrendSpotter</td><td>211000</td></tr><tr><td>Bangladesh</td><td>The Turquoise Home | Simple DIY + Home Decor Ideas</td><td>205000</td></tr><tr><td>Angola</td><td>CameraMath</td><td>198000</td></tr><tr><td>Comoros</td><td>Becky Mansfield - YourModernFamily </td><td>196000</td></tr><tr><td>Cote d'Ivoire</td><td>The Crafting Chicks</td><td>192000</td></tr><tr><td>Andorra</td><td>Our Mindful Life</td><td>190000</td></tr><tr><td>Cape Verde</td><td>Sand and Sisal</td><td>178000</td></tr><tr><td>Saint Kitts and Nevis</td><td>vintagetopia</td><td>171000</td></tr><tr><td>India</td><td>Zezè</td><td>150000</td></tr><tr><td>Bahrain</td><td>Decor Home Ideas</td><td>144000</td></tr><tr><td>Saint Helena</td><td>e.l.f. Cosmetics</td><td>143000</td></tr><tr><td>Canada</td><td>Twelve On Main</td><td>142000</td></tr><tr><td>Armenia</td><td>Craft-Mart</td><td>132000</td></tr><tr><td>Cocos (Keeling) Islands</td><td>Clarks Condensed, LLC</td><td>130000</td></tr><tr><td>Djibouti</td><td>Katepickle - picklebums - fun ideas for families</td><td>130000</td></tr><tr><td>Algeria</td><td>Fun Life Crisis</td><td>130000</td></tr><tr><td>Central African Republic</td><td>Steve at Good Habits, Self Help & Mindful Living</td><td>126000</td></tr><tr><td>Armenia</td><td>Of Life & Lisa | Lifestyle Blog</td><td>124000</td></tr><tr><td>Germany</td><td>Azuro Republic</td><td>122000</td></tr><tr><td>French Polynesia</td><td>Simple Made Pretty - DIY, Crafts, and Home Decor</td><td>121000</td></tr><tr><td>Albania</td><td>MojisStyle</td><td>117000</td></tr><tr><td>Morocco</td><td>ThriftyandChic.com | DIY Projects and Budget Decor</td><td>116000</td></tr><tr><td>Madagascar</td><td>MomAdvice</td><td>112000</td></tr><tr><td>Aruba</td><td>The Work at Home Woman</td><td>110000</td></tr><tr><td>Argentina</td><td>This Tiny  Blue House</td><td>108000</td></tr><tr><td>Central African Republic</td><td>The Crazy Craft Lady</td><td>105000</td></tr><tr><td>Azerbaijan</td><td>Budgeting Couple</td><td>97000</td></tr><tr><td>Andorra</td><td>Shake Up Learning</td><td>96000</td></tr><tr><td>Anguilla</td><td>Kristen | Lifestyle, Mom Tips & Teacher Stuff Blog</td><td>92000</td></tr><tr><td>Christmas Island</td><td>Avenly Lane Travel blog | Travel Inspiration | Beautiful Places</td><td>91000</td></tr><tr><td>Gibraltar</td><td>TheSuperBOO!</td><td>89000</td></tr><tr><td>Austria</td><td>The World Pursuit Travel Website</td><td>89000</td></tr><tr><td>Costa Rica</td><td>MessyNessyChic</td><td>88000</td></tr><tr><td>Belize</td><td>Place Of My Taste | Home decor | Simple DIY |Eclectic home decor | Interior design| DIY projects | Home decor ideas</td><td>88000</td></tr><tr><td>Czech Republic</td><td>Charlene Haugsven (My Frugal Adventures)</td><td>87000</td></tr><tr><td>Guatemala</td><td>Menucha - Moms and Crafters</td><td>85000</td></tr><tr><td>Anguilla</td><td>Thank Your Body</td><td>85000</td></tr><tr><td>Mozambique</td><td>Stylin by Aylin</td><td>83000</td></tr><tr><td>Ecuador</td><td>Ashlee Anderson | Career Coach | Remote Work Pro | Millennial</td><td>81000</td></tr><tr><td>American Samoa</td><td>Mamas Uncut</td><td>80000</td></tr><tr><td>Angola</td><td>Tastemade</td><td>80000</td></tr><tr><td>Namibia</td><td>Kroger Co</td><td>78000</td></tr><tr><td>Bahrain</td><td>Elizabeth Lampman</td><td>78000</td></tr><tr><td>Maldives</td><td>Kat Sullivan | Marketing Solved | Entrepreneur</td><td>77000</td></tr><tr><td>Kyrgyz Republic</td><td>Gladiis Moreno </td><td>77000</td></tr><tr><td>Brazil</td><td>Doris Leslie Blau Antique & Vintage Rugs</td><td>72000</td></tr><tr><td>Aruba</td><td>Gathering Dreams | Do What You Love</td><td>71000</td></tr><tr><td>Bolivia</td><td>She Gave It A Go| Faith Family Farmhouse</td><td>68000</td></tr><tr><td>Dominica</td><td>Monique - Living Life and Learning</td><td>67000</td></tr><tr><td>Bangladesh</td><td>Natalie Bacon | NatalieBacon.com</td><td>66000</td></tr><tr><td>Tunisia</td><td>El blog amarillo</td><td>66000</td></tr><tr><td>Australia</td><td>Andie, DIY IKEA Hacks, Crafts to Make and Sell, Christmas Crafts</td><td>65000</td></tr><tr><td>Algeria</td><td>Bring a Trailer</td><td>63000</td></tr><tr><td>Kuwait</td><td>JDaniel4's Mom</td><td>63000</td></tr><tr><td>Azerbaijan</td><td>Style Me Pretty</td><td>60000</td></tr><tr><td>Anguilla</td><td>Girl Crafts</td><td>60000</td></tr><tr><td>Norfolk Island</td><td>The Skinny Confidential</td><td>60000</td></tr><tr><td>Aruba</td><td>Primer</td><td>59000</td></tr><tr><td>Austria</td><td>Beautyholo | Latest Hairstyles, Nail Design Ideas, Home Décor DIY, Women Fashion Ideas</td><td>54000</td></tr><tr><td>Equatorial Guinea</td><td>Adventure in You Travel Blog</td><td>54000</td></tr><tr><td>Iceland</td><td>Growing Up Gabel</td><td>53000</td></tr><tr><td>Lithuania</td><td>Play Ideas</td><td>52000</td></tr><tr><td>Isle of Man</td><td>Abbotts At Home</td><td>52000</td></tr><tr><td>French Polynesia</td><td>The Printable Princess</td><td>52000</td></tr><tr><td>French Guiana</td><td>Commitment Connection</td><td>51000</td></tr><tr><td>Azerbaijan</td><td>Early Learning Ideas</td><td>50000</td></tr><tr><td>Albania</td><td>The Minds Journal</td><td>50000</td></tr><tr><td>American Samoa</td><td>BuzzFeed</td><td>50000</td></tr><tr><td>Fiji</td><td>Melanie Tonia Evans</td><td>49000</td></tr><tr><td>Germany</td><td>Michael Friermood</td><td>48000</td></tr><tr><td>Monaco</td><td>Hum3D | Car 3D models</td><td>48000</td></tr><tr><td>Mali</td><td>A Cup Full of Sass</td><td>47000</td></tr><tr><td>American Samoa</td><td>IdeasDonuts</td><td>47000</td></tr><tr><td>Comoros</td><td>The Pretty Life Girls | Crafts, DIY, Fashion & Recipes</td><td>47000</td></tr><tr><td>Congo</td><td>Balzer Designs</td><td>47000</td></tr><tr><td>Antarctica (the territory South of 60 deg S)</td><td>This Mama Blogs -Work at Home Jobs |  Frugal Living | Make Money</td><td>46000</td></tr><tr><td>Bermuda</td><td>Life on Summerhill | Home, Holiday Decor & DIY Website</td><td>46000</td></tr><tr><td>Cayman Islands</td><td>Graphic Tip</td><td>46000</td></tr><tr><td>Bahrain</td><td>R.J. Weiss at The Ways To Wealth | Personal Finance | Debt Payoff</td><td>46000</td></tr><tr><td>Zimbabwe</td><td>Chrissy at Organise My House</td><td>45000</td></tr><tr><td>Nepal</td><td>Desert Blossom Crafts</td><td>45000</td></tr><tr><td>Algeria</td><td>Boss Babe Chronicles | Personal Development, Finances, Self Care</td><td>45000</td></tr><tr><td>Albania</td><td>Hairs Out of Place</td><td>44000</td></tr><tr><td>Congo</td><td>Our Kid Things</td><td>44000</td></tr><tr><td>Maldives</td><td>Thrive Causemetics</td><td>43000</td></tr><tr><td>Algeria</td><td>Caroline|CarolineVencil.com | Saving & Making Money | Pro Blogger</td><td>42000</td></tr><tr><td>American Samoa</td><td>TheFab20s | Travel+Food+DIY+Listicles</td><td>42000</td></tr><tr><td>Bahamas</td><td>Her Packing List | Minimalist Travel Essentials & Tips for Women</td><td>41000</td></tr><tr><td>Chile</td><td>Quotes (Inspirational +Motivational+Love Quotes)</td><td>40000</td></tr><tr><td>French Southern Territories</td><td>Salvaged Living</td><td>40000</td></tr><tr><td>Greece</td><td>Health, Fitness & Styles | BKP</td><td>37000</td></tr><tr><td>Zimbabwe</td><td>Crafted by the Hunts | Home DIY and Design</td><td>35000</td></tr><tr><td>Brunei Darussalam</td><td>Almacen de Globos</td><td>34000</td></tr><tr><td>Benin</td><td>The Joy of Sharing</td><td>34000</td></tr><tr><td>Congo</td><td>Find Us Lost | A Travel Blog</td><td>33000</td></tr><tr><td>Angola</td><td>Biba Magazine</td><td>32000</td></tr><tr><td>Aruba</td><td>Breezy Special Ed</td><td>31000</td></tr><tr><td>Comoros</td><td>Simple Lionheart Life</td><td>31000</td></tr><tr><td>Antigua and Barbuda</td><td>Everyday Wholesome</td><td>31000</td></tr><tr><td>Dominican Republic</td><td>Maria Louise Design</td><td>31000</td></tr><tr><td>Christmas Island</td><td>Instructables</td><td>30000</td></tr><tr><td>Bangladesh</td><td>Architectural Digest</td><td>30000</td></tr><tr><td>Guatemala</td><td>GrowingSlower</td><td>30000</td></tr><tr><td>Belarus</td><td>Salt in our Hair</td><td>29000</td></tr><tr><td>Portugal</td><td>Lindsey Blogs</td><td>29000</td></tr><tr><td>Isle of Man</td><td>Jasminxg</td><td>29000</td></tr><tr><td>Australia</td><td>LLEGANCE | Workwear Fashion Woman Advice For Driven Professionals</td><td>28000</td></tr><tr><td>Barbados</td><td>Nicki </td><td>28000</td></tr><tr><td>Congo</td><td>Shawn Petite</td><td>27000</td></tr><tr><td>Bosnia and Herzegovina</td><td>The College Investor</td><td>27000</td></tr><tr><td>Afghanistan</td><td>It's me, JD | DIY, Crafts, Home & Organization</td><td>27000</td></tr><tr><td>Bulgaria</td><td>Living Low Key | Save Money, Make Money, & Frugal Living</td><td>26000</td></tr><tr><td>Canada</td><td>Sophie Felts Floral Design</td><td>26000</td></tr><tr><td>Antarctica (the territory South of 60 deg S)</td><td>Queen Bee of Honey Dos - Home Improvement + DIY</td><td>25000</td></tr><tr><td>Armenia</td><td>The Arty Teacher</td><td>25000</td></tr><tr><td>Cote d'Ivoire</td><td>Math Giraffe</td><td>25000</td></tr><tr><td>Angola</td><td>Thrifted & Taylor'd | Fashion, DIY, and Home Decor Blogger</td><td>24000</td></tr><tr><td>Gambia</td><td>Craft Warehouse</td><td>23000</td></tr><tr><td>Cambodia</td><td>Melanie | Southern Crush at Home | DIY ideas | Seasonal DIY Decor</td><td>23000</td></tr><tr><td>Mauritania</td><td>The Literacy Nest</td><td>22000</td></tr><tr><td>Macao</td><td>Cassidy Lucille | College and Lifestyle</td><td>22000</td></tr><tr><td>Australia</td><td>Jess Wandering</td><td>22000</td></tr><tr><td>Belize</td><td>Teaching Special Thinkers</td><td>21000</td></tr><tr><td>Seychelles</td><td>ALL FOR WOMAN</td><td>21000</td></tr><tr><td>Albania</td><td>Bored Panda</td><td>20000</td></tr><tr><td>Albania</td><td>Projects with Kids</td><td>20000</td></tr><tr><td>Estonia</td><td>The Homeschool Scientist</td><td>20000</td></tr><tr><td>Afghanistan</td><td>Blossom</td><td>20000</td></tr><tr><td>Afghanistan</td><td>Walmart</td><td>20000</td></tr><tr><td>American Samoa</td><td>wikiHow</td><td>20000</td></tr><tr><td>Australia</td><td>Mujer de 10 </td><td>20000</td></tr><tr><td>Australia</td><td>Ashley - Modern Glam</td><td>19000</td></tr><tr><td>Chile</td><td>Amber Strong - The Maker’s Map | DIY’s, Crafts & Home Decor</td><td>19000</td></tr><tr><td>Jamaica</td><td>Financial Toolkit</td><td>19000</td></tr><tr><td>Austria</td><td>Karibikfruechtchen</td><td>19000</td></tr><tr><td>Bulgaria</td><td>Primarily Speaking</td><td>19000</td></tr><tr><td>Andorra</td><td>Hayley Focsan | Health, food and Liftestyle Blogger</td><td>19000</td></tr><tr><td>Saint Pierre and Miquelon</td><td>Beauty Products Are My Cardio: High End Beauty & Drugstore Finds </td><td>18000</td></tr><tr><td>British Virgin Islands</td><td>DollarSprout</td><td>18000</td></tr><tr><td>Niger</td><td>Bridget Hennessey</td><td>17000</td></tr><tr><td>Ethiopia</td><td>Sarah Wahl | Crestfox</td><td>17000</td></tr><tr><td>Croatia</td><td>Budgets Made Easy</td><td>17000</td></tr><tr><td>Japan</td><td>Eyes On Walls</td><td>17000</td></tr><tr><td>Greece</td><td>My Pear Tree Home</td><td>15000</td></tr><tr><td>Israel</td><td>MashUp Math</td><td>15000</td></tr><tr><td>Cyprus</td><td>Tattoos N Rings </td><td>14000</td></tr><tr><td>France</td><td>Sunshine Whispers</td><td>14000</td></tr><tr><td>Azerbaijan</td><td>Esavingsblog</td><td>14000</td></tr><tr><td>Uganda</td><td>Jean Stoffer Design</td><td>13000</td></tr><tr><td>Marshall Islands</td><td>Dashing Darlin' </td><td>13000</td></tr><tr><td>Ecuador</td><td>Wedding Planner Coach/ Culture Wedding PR Firm</td><td>13000</td></tr><tr><td>Macedonia</td><td>British Beauty Blogger- Beauty Reviews, Style & More</td><td>12000</td></tr><tr><td>Bouvet Island (Bouvetoya)</td><td>To Some Place New | Travel Blog | Europe Travel & Beyond</td><td>12000</td></tr><tr><td>Oman</td><td>CentSai |  Personal Finance | Budgeting and Saving Money</td><td>11000</td></tr><tr><td>Christmas Island</td><td>WranglerForum.com</td><td>11000</td></tr><tr><td>Aruba</td><td>Traci Bender - The Bender Bunch</td><td>11000</td></tr><tr><td>Kyrgyz Republic</td><td>Funding Cloud Nine</td><td>11000</td></tr><tr><td>Guatemala</td><td>Frugal Mom Guide | Saving Money Tips, Making Money, Budgeting</td><td>10000</td></tr><tr><td>Antarctica (the territory South of 60 deg S)</td><td>Refinery29</td><td>10000</td></tr><tr><td>Antigua and Barbuda</td><td>Country Living Magazine</td><td>10000</td></tr><tr><td>Austria</td><td>Wanderlust Chloe ✈️ Travel guides, inspo and adventure travel ✈️</td><td>10000</td></tr><tr><td>Ghana</td><td>goldie</td><td>10000</td></tr><tr><td>Lithuania</td><td>The Bespoke ELA Classroom</td><td>10000</td></tr><tr><td>Canada</td><td>Elle Marie Home | DIY Home Decor + Crochet + Holiday Crafts</td><td>10000</td></tr><tr><td>Australia</td><td>Cultura Colectiva</td><td>10000</td></tr><tr><td>Andorra</td><td>Teachers Pay Teachers</td><td>10000</td></tr><tr><td>Christmas Island</td><td>OUR NEXT ADVENTURE | family travel blog</td><td>9000</td></tr><tr><td>Jamaica</td><td>Kidz Entertainment, Inc.</td><td>9000</td></tr><tr><td>Egypt</td><td>South Lumina Style</td><td>9000</td></tr><tr><td>Estonia</td><td>Branding Addicts</td><td>9000</td></tr><tr><td>Turkey</td><td>My Little Poppies (Cait Curley, MA/CAGS)</td><td>9000</td></tr><tr><td>Armenia</td><td>Pacho Tattoo</td><td>9000</td></tr><tr><td>Nicaragua</td><td>Land Rover USA</td><td>9000</td></tr><tr><td>Armenia</td><td>Jiew82633</td><td>8000</td></tr><tr><td>Jamaica</td><td>hobbyDB</td><td>8000</td></tr><tr><td>Canada</td><td>Diana's Healthy Living | Luxury Adventure Travel Blog</td><td>7000</td></tr><tr><td>Netherlands Antilles</td><td>Kim Cook-Thirteen Chairs-Slates Mugs And Tees</td><td>7000</td></tr><tr><td>India</td><td>Travel Mad Mum</td><td>7000</td></tr><tr><td>Saint Kitts and Nevis</td><td>Autotrader</td><td>7000</td></tr><tr><td>Argentina</td><td>Boop Decals</td><td>7000</td></tr><tr><td>Gabon</td><td>Expatolife</td><td>7000</td></tr><tr><td>Aruba</td><td>Global Assignment Help Australia</td><td>6000</td></tr><tr><td>Faroe Islands</td><td> Travel Pins Design Ideas</td><td>6000</td></tr><tr><td>Mozambique</td><td>Ovetta Jackson</td><td>6000</td></tr><tr><td>Cambodia</td><td>Mixed Media Crafts</td><td>6000</td></tr><tr><td>Aruba</td><td>ifyousayido</td><td>5000</td></tr><tr><td>Aruba</td><td>Wear24-7</td><td>5000</td></tr><tr><td>Germany</td><td>QC Career School</td><td>5000</td></tr><tr><td>Tanzania</td><td>Kevmrc travel</td><td>5000</td></tr><tr><td>Jersey</td><td>Princess</td><td>5000</td></tr><tr><td>Korea</td><td>Kathryn Trattner</td><td>5000</td></tr><tr><td>Australia</td><td>Write Your Story | Budgeting, Healthy Lifestyle, Faith</td><td>5000</td></tr><tr><td>Kenya</td><td>Laura- Inspire My Play | Play & Learning For Little Kids</td><td>4000</td></tr><tr><td>Dominican Republic</td><td>Clare - Homeschool of One | Homeschooling Tips, Resources & Fun</td><td>4000</td></tr><tr><td>Solomon Islands</td><td>Feathered Arrow | Kari | Wedding Planner, Educator+Podcast Host</td><td>4000</td></tr><tr><td>Estonia</td><td>Net-Maquettes</td><td>4000</td></tr><tr><td>Togo</td><td>debra</td><td>4000</td></tr><tr><td>Botswana</td><td>RapidLeaks</td><td>4000</td></tr><tr><td>Azerbaijan</td><td>My Debt Epiphany | Money Making Tips | Frugal Living | Debt Free</td><td>4000</td></tr><tr><td>Montserrat</td><td>Taming Little Monsters - Fun Activities for Kids</td><td>4000</td></tr><tr><td>Zambia</td><td>Craft and Lore</td><td>3000</td></tr><tr><td>Dominican Republic</td><td>Petite in Paris</td><td>3000</td></tr><tr><td>Palestinian Territory</td><td>MyTessabit</td><td>3000</td></tr><tr><td>Kuwait</td><td>Kathryn Egly</td><td>3000</td></tr><tr><td>Argentina</td><td>Tony</td><td>3000</td></tr><tr><td>Bhutan</td><td>Kids Crafts & Free Preschool Printables- Sharing Our Experiences</td><td>3000</td></tr><tr><td>Israel</td><td>LISA MASLYK / VOICE OVER TALENT /ACTOR</td><td>3000</td></tr><tr><td>Benin</td><td>Prettyluhhazel</td><td>3000</td></tr><tr><td>Ethiopia</td><td>Dafina | Dollars Plus Sense | FREE Household Budget Printables</td><td>2000</td></tr><tr><td>El Salvador</td><td>Travel-boo | Marco Santos | Portugal & Spain Travel Blogger</td><td>2000</td></tr><tr><td>Angola</td><td>Dollar Financials | Make Money Online, Save Money and Personal Finance Tips</td><td>2000</td></tr><tr><td>Equatorial Guinea</td><td>Betty McKnit Knit and Crochet Pattern Designer & Instructor</td><td>2000</td></tr><tr><td>Libyan Arab Jamahiriya</td><td>Clyde Brokaw</td><td>2000</td></tr><tr><td>Saint Kitts and Nevis</td><td>Heartwork City by Artist Denise Braun</td><td>2000</td></tr><tr><td>Djibouti</td><td>Weston Boucher</td><td>2000</td></tr><tr><td>Kyrgyz Republic</td><td>Whitney Brown</td><td>2000</td></tr><tr><td>Gibraltar</td><td>Learn Play Read</td><td>2000</td></tr><tr><td>Guyana</td><td>Julian </td><td>2000</td></tr><tr><td>Kuwait</td><td>Vinyl Written</td><td>1000</td></tr><tr><td>Panama</td><td>Alanna | Periodic Adventures</td><td>1000</td></tr><tr><td>Guinea-Bissau</td><td>WELIKEBALI</td><td>1000</td></tr><tr><td>Samoa</td><td>Michael Godard Art Gallery</td><td>1000</td></tr><tr><td>Jersey</td><td>Raúl Castillo</td><td>1000</td></tr><tr><td>Chad</td><td>ManiMe | Custom-Fit, Stick-On Gel Nails</td><td>1000</td></tr><tr><td>Finland</td><td>Maggie Panning</td><td>1000</td></tr><tr><td>Sudan</td><td>iElylike ..✿◕‿◕✿ஐ✿◕‿◕✿</td><td>940</td></tr><tr><td>Nicaragua</td><td>marie amaro</td><td>893</td></tr><tr><td>Kenya</td><td>Life Style '99</td><td>883</td></tr><tr><td>Bermuda</td><td>Love & Lion</td><td>873</td></tr><tr><td>Sao Tome and Principe</td><td>Bookmarks Retail</td><td>793</td></tr><tr><td>India</td><td>Alexandria Paris Interior Designer, Feng shui, Slow Design</td><td>740</td></tr><tr><td>Marshall Islands</td><td>Neeba♥️ | Content Creation • Online business</td><td>649</td></tr><tr><td>Poland</td><td>Bring Me Tacos</td><td>637</td></tr><tr><td>Tanzania</td><td>Valerie Fodstad</td><td>609</td></tr><tr><td>Nicaragua</td><td>Mary Lee</td><td>605</td></tr><tr><td>Montserrat</td><td>Sarah M. Mojica</td><td>539</td></tr><tr><td>Anguilla</td><td>Stephanie Stiteler</td><td>466</td></tr><tr><td>Falkland Islands (Malvinas)</td><td>R.A. Parker</td><td>442</td></tr><tr><td>Cocos (Keeling) Islands</td><td>Ray Uyemura</td><td>437</td></tr><tr><td>Eritrea</td><td>Aimee Miley</td><td>405</td></tr><tr><td>New Caledonia</td><td>Au'vey Smith</td><td>377</td></tr><tr><td>Grenada</td><td>p hump</td><td>314</td></tr><tr><td>Isle of Man</td><td>Annamarie Hilton</td><td>313</td></tr><tr><td>Ecuador</td><td>Utopian Trimmings</td><td>295</td></tr><tr><td>Palau</td><td>Christie Will</td><td>274</td></tr><tr><td>Poland</td><td>BEIMER</td><td>265</td></tr><tr><td>Ecuador</td><td>Midwest Jewelers & Estate Buyers</td><td>265</td></tr><tr><td>Trinidad and Tobago</td><td>Syndi Mulcahy</td><td>254</td></tr><tr><td>Antarctica (the territory South of 60 deg S)</td><td>Maloona</td><td>203</td></tr><tr><td>Norway</td><td>DailyDose</td><td>189</td></tr><tr><td>Angola</td><td>Kel and Co</td><td>177</td></tr><tr><td>Netherlands Antilles</td><td>Venelin Elenkov</td><td>171</td></tr><tr><td>Australia</td><td>Your Home, Reimagined LLC</td><td>137</td></tr><tr><td>Papua New Guinea</td><td>AnnaLee Kick</td><td>112</td></tr><tr><td>Philippines</td><td>Life of Neon | Custom Neon Light Signs | Home Decor Wall Art</td><td>111</td></tr><tr><td>Switzerland</td><td>Latasha Webster</td><td>83</td></tr><tr><td>Holy See (Vatican City State)</td><td>aespup</td><td>79</td></tr><tr><td>Cape Verde</td><td>Jooosy</td><td>77</td></tr><tr><td>Botswana</td><td>Summers Capital Investments</td><td>76</td></tr><tr><td>American Samoa</td><td>Davosa USA</td><td>59</td></tr><tr><td>Myanmar</td><td>The Purple Chickadee</td><td>49</td></tr><tr><td>Chad</td><td>Jordan Mackenzie</td><td>47</td></tr><tr><td>New Caledonia</td><td>sean drake</td><td>44</td></tr><tr><td>Ecuador</td><td>josue</td><td>39</td></tr><tr><td>United States Virgin Islands</td><td>Pamisva</td><td>33</td></tr><tr><td>Aruba</td><td>Mala Rock | Rock T-shirts</td><td>27</td></tr><tr><td>Tanzania</td><td>mj</td><td>26</td></tr><tr><td>Finland</td><td>Mccready-romero</td><td>20</td></tr><tr><td>Seychelles</td><td>Awesthetics by Amy Wong</td><td>18</td></tr><tr><td>Saint Vincent and the Grenadines</td><td>Home Etc</td><td>13</td></tr><tr><td>Rwanda</td><td>Erin Pothier</td><td>10</td></tr><tr><td>Solomon Islands</td><td>anabel</td><td>8</td></tr><tr><td>Marshall Islands</td><td>Hustle Chick</td><td>7</td></tr><tr><td>American Samoa</td><td>K&S Precision Metals</td><td>5</td></tr><tr><td>Kiribati</td><td>Nancy</td><td>3</td></tr><tr><td>Cambodia</td><td>Lovely Little Things, TN</td><td>0</td></tr><tr><td>El Salvador</td><td>Legendary ltd.</td><td>0</td></tr><tr><td>Lebanon</td><td>Ajit Irom</td><td>0</td></tr><tr><td>Colombia</td><td>Consuelo Aguirre</td><td>0</td></tr><tr><td>Netherlands Antilles</td><td>Olc</td><td>0</td></tr><tr><td>Guinea-Bissau</td><td>Livitrevisani</td><td>0</td></tr><tr><td>Tonga</td><td>Grecia Perales</td><td>0</td></tr><tr><td>Albania</td><td>null</td><td>null</td></tr></tbody></table></div>"
      ]
     },
     "metadata": {
      "application/vnd.databricks.v1+output": {
       "addedWidgets": {},
       "aggData": [],
       "aggError": "",
       "aggOverflow": false,
       "aggSchema": [],
       "aggSeriesLimitReached": false,
       "aggType": "",
       "arguments": {},
       "columnCustomDisplayInfos": {},
       "data": [
        [
         "Algeria",
         "YourTango",
         942000
        ],
        [
         "Lesotho",
         "The Guardian",
         908000
        ],
        [
         "Armenia",
         "Michelle {CraftyMorning.com}",
         892000
        ],
        [
         "Aruba",
         "GQ Magazine",
         874000
        ],
        [
         "Trinidad and Tobago",
         "Red Magazine",
         872000
        ],
        [
         "Central African Republic",
         "PureWow",
         868000
        ],
        [
         "Argentina",
         "Next Luxury",
         800000
        ],
        [
         "Andorra",
         "Glaminati",
         799000
        ],
        [
         "Algeria",
         "SheKnows",
         787000
        ],
        [
         "Armenia",
         "DIYnCrafts.Com",
         746000
        ],
        [
         "Afghanistan",
         "TheUnstitchd",
         723000
        ],
        [
         "Bangladesh",
         "Smart School House",
         673000
        ],
        [
         "Pitcairn Islands",
         "Marla Meridith",
         671000
        ],
        [
         "Aruba",
         "One Kindesign",
         657000
        ],
        [
         "Lebanon",
         "EtsyUK",
         634000
        ],
        [
         "Armenia",
         "ArchitectureArtDesigns",
         616000
        ],
        [
         "Algeria",
         "Mens Fashion - LIFESTYLE BY PS ",
         613000
        ],
        [
         "Bulgaria",
         "A Piece of Rainbow",
         603000
        ],
        [
         "Norway",
         "Androf | Best DIY & Ideas | Unique Drawing | Amazing Art",
         544000
        ],
        [
         "Angola",
         "CraftGossip.com",
         502000
        ],
        [
         "Antarctica (the territory South of 60 deg S)",
         "HikenDip",
         500000
        ],
        [
         "Albania",
         "WeAreTeachers",
         500000
        ],
        [
         "Angola",
         "The Everygirl",
         496000
        ],
        [
         "American Samoa",
         "aufeminin",
         494000
        ],
        [
         "Heard Island and McDonald Islands",
         "Real Men Real Style",
         487000
        ],
        [
         "Albania",
         "One Little Project",
         472000
        ],
        [
         "Algeria",
         "Hand Luggage Only",
         459000
        ],
        [
         "Italy",
         "Setting for Four",
         435000
        ],
        [
         "Barbados",
         "The Creativity Exchange",
         410000
        ],
        [
         "Belize",
         "Julia Berolzheimer",
         399000
        ],
        [
         "Bosnia and Herzegovina",
         "Stylesatlife",
         388000
        ],
        [
         "Cayman Islands",
         "How Wee Learn",
         383000
        ],
        [
         "Bangladesh",
         "Suburban Men",
         383000
        ],
        [
         "Afghanistan",
         "Home Stories A to Z",
         362000
        ],
        [
         "Maldives",
         "Passion For Savings",
         330000
        ],
        [
         "Algeria",
         "ELLE Germany",
         326000
        ],
        [
         "Wallis and Futuna",
         "Seventeen",
         320000
        ],
        [
         "Belarus",
         "Something Turquoise",
         312000
        ],
        [
         "Antigua and Barbuda",
         "Sumcoco | Decor Ideas, Hairstyles, Nails Fashion Advice",
         306000
        ],
        [
         "Colombia",
         "Abbi Kirsten at CC Designs | Paper Flower Templates & Tutorials ",
         297000
        ],
        [
         "Belize",
         "Easy Kids Crafts & Activities | Preschool & Kindergarten Ideas",
         267000
        ],
        [
         "British Virgin Islands",
         "Kitchen Fun With My 3 Sons",
         245000
        ],
        [
         "French Guiana",
         "Sweet Red Poppy Free Sewing Patterns, Cut Files & Craft Tutorials",
         241000
        ],
        [
         "Albania",
         "ArtsyCraftsyMom | Art, Craft & DIY ideas",
         229000
        ],
        [
         "Monaco",
         "Artists Network",
         227000
        ],
        [
         "Chad",
         "Glued To My Crafts",
         226000
        ],
        [
         "Samoa",
         "Chic Pursuit",
         222000
        ],
        [
         "Nepal",
         "Christie @Childhood101",
         222000
        ],
        [
         "Guam",
         "Amanda Green Bottoms @ kevinandamanda.com",
         219000
        ],
        [
         "Aruba",
         "TheTrendSpotter",
         211000
        ],
        [
         "Bangladesh",
         "The Turquoise Home | Simple DIY + Home Decor Ideas",
         205000
        ],
        [
         "Angola",
         "CameraMath",
         198000
        ],
        [
         "Comoros",
         "Becky Mansfield - YourModernFamily ",
         196000
        ],
        [
         "Cote d'Ivoire",
         "The Crafting Chicks",
         192000
        ],
        [
         "Andorra",
         "Our Mindful Life",
         190000
        ],
        [
         "Cape Verde",
         "Sand and Sisal",
         178000
        ],
        [
         "Saint Kitts and Nevis",
         "vintagetopia",
         171000
        ],
        [
         "India",
         "Zezè",
         150000
        ],
        [
         "Bahrain",
         "Decor Home Ideas",
         144000
        ],
        [
         "Saint Helena",
         "e.l.f. Cosmetics",
         143000
        ],
        [
         "Canada",
         "Twelve On Main",
         142000
        ],
        [
         "Armenia",
         "Craft-Mart",
         132000
        ],
        [
         "Cocos (Keeling) Islands",
         "Clarks Condensed, LLC",
         130000
        ],
        [
         "Djibouti",
         "Katepickle - picklebums - fun ideas for families",
         130000
        ],
        [
         "Algeria",
         "Fun Life Crisis",
         130000
        ],
        [
         "Central African Republic",
         "Steve at Good Habits, Self Help & Mindful Living",
         126000
        ],
        [
         "Armenia",
         "Of Life & Lisa | Lifestyle Blog",
         124000
        ],
        [
         "Germany",
         "Azuro Republic",
         122000
        ],
        [
         "French Polynesia",
         "Simple Made Pretty - DIY, Crafts, and Home Decor",
         121000
        ],
        [
         "Albania",
         "MojisStyle",
         117000
        ],
        [
         "Morocco",
         "ThriftyandChic.com | DIY Projects and Budget Decor",
         116000
        ],
        [
         "Madagascar",
         "MomAdvice",
         112000
        ],
        [
         "Aruba",
         "The Work at Home Woman",
         110000
        ],
        [
         "Argentina",
         "This Tiny  Blue House",
         108000
        ],
        [
         "Central African Republic",
         "The Crazy Craft Lady",
         105000
        ],
        [
         "Azerbaijan",
         "Budgeting Couple",
         97000
        ],
        [
         "Andorra",
         "Shake Up Learning",
         96000
        ],
        [
         "Anguilla",
         "Kristen | Lifestyle, Mom Tips & Teacher Stuff Blog",
         92000
        ],
        [
         "Christmas Island",
         "Avenly Lane Travel blog | Travel Inspiration | Beautiful Places",
         91000
        ],
        [
         "Gibraltar",
         "TheSuperBOO!",
         89000
        ],
        [
         "Austria",
         "The World Pursuit Travel Website",
         89000
        ],
        [
         "Costa Rica",
         "MessyNessyChic",
         88000
        ],
        [
         "Belize",
         "Place Of My Taste | Home decor | Simple DIY |Eclectic home decor | Interior design| DIY projects | Home decor ideas",
         88000
        ],
        [
         "Czech Republic",
         "Charlene Haugsven (My Frugal Adventures)",
         87000
        ],
        [
         "Guatemala",
         "Menucha - Moms and Crafters",
         85000
        ],
        [
         "Anguilla",
         "Thank Your Body",
         85000
        ],
        [
         "Mozambique",
         "Stylin by Aylin",
         83000
        ],
        [
         "Ecuador",
         "Ashlee Anderson | Career Coach | Remote Work Pro | Millennial",
         81000
        ],
        [
         "American Samoa",
         "Mamas Uncut",
         80000
        ],
        [
         "Angola",
         "Tastemade",
         80000
        ],
        [
         "Namibia",
         "Kroger Co",
         78000
        ],
        [
         "Bahrain",
         "Elizabeth Lampman",
         78000
        ],
        [
         "Maldives",
         "Kat Sullivan | Marketing Solved | Entrepreneur",
         77000
        ],
        [
         "Kyrgyz Republic",
         "Gladiis Moreno ",
         77000
        ],
        [
         "Brazil",
         "Doris Leslie Blau Antique & Vintage Rugs",
         72000
        ],
        [
         "Aruba",
         "Gathering Dreams | Do What You Love",
         71000
        ],
        [
         "Bolivia",
         "She Gave It A Go| Faith Family Farmhouse",
         68000
        ],
        [
         "Dominica",
         "Monique - Living Life and Learning",
         67000
        ],
        [
         "Bangladesh",
         "Natalie Bacon | NatalieBacon.com",
         66000
        ],
        [
         "Tunisia",
         "El blog amarillo",
         66000
        ],
        [
         "Australia",
         "Andie, DIY IKEA Hacks, Crafts to Make and Sell, Christmas Crafts",
         65000
        ],
        [
         "Algeria",
         "Bring a Trailer",
         63000
        ],
        [
         "Kuwait",
         "JDaniel4's Mom",
         63000
        ],
        [
         "Azerbaijan",
         "Style Me Pretty",
         60000
        ],
        [
         "Anguilla",
         "Girl Crafts",
         60000
        ],
        [
         "Norfolk Island",
         "The Skinny Confidential",
         60000
        ],
        [
         "Aruba",
         "Primer",
         59000
        ],
        [
         "Austria",
         "Beautyholo | Latest Hairstyles, Nail Design Ideas, Home Décor DIY, Women Fashion Ideas",
         54000
        ],
        [
         "Equatorial Guinea",
         "Adventure in You Travel Blog",
         54000
        ],
        [
         "Iceland",
         "Growing Up Gabel",
         53000
        ],
        [
         "Lithuania",
         "Play Ideas",
         52000
        ],
        [
         "Isle of Man",
         "Abbotts At Home",
         52000
        ],
        [
         "French Polynesia",
         "The Printable Princess",
         52000
        ],
        [
         "French Guiana",
         "Commitment Connection",
         51000
        ],
        [
         "Azerbaijan",
         "Early Learning Ideas",
         50000
        ],
        [
         "Albania",
         "The Minds Journal",
         50000
        ],
        [
         "American Samoa",
         "BuzzFeed",
         50000
        ],
        [
         "Fiji",
         "Melanie Tonia Evans",
         49000
        ],
        [
         "Germany",
         "Michael Friermood",
         48000
        ],
        [
         "Monaco",
         "Hum3D | Car 3D models",
         48000
        ],
        [
         "Mali",
         "A Cup Full of Sass",
         47000
        ],
        [
         "American Samoa",
         "IdeasDonuts",
         47000
        ],
        [
         "Comoros",
         "The Pretty Life Girls | Crafts, DIY, Fashion & Recipes",
         47000
        ],
        [
         "Congo",
         "Balzer Designs",
         47000
        ],
        [
         "Antarctica (the territory South of 60 deg S)",
         "This Mama Blogs -Work at Home Jobs |  Frugal Living | Make Money",
         46000
        ],
        [
         "Bermuda",
         "Life on Summerhill | Home, Holiday Decor & DIY Website",
         46000
        ],
        [
         "Cayman Islands",
         "Graphic Tip",
         46000
        ],
        [
         "Bahrain",
         "R.J. Weiss at The Ways To Wealth | Personal Finance | Debt Payoff",
         46000
        ],
        [
         "Zimbabwe",
         "Chrissy at Organise My House",
         45000
        ],
        [
         "Nepal",
         "Desert Blossom Crafts",
         45000
        ],
        [
         "Algeria",
         "Boss Babe Chronicles | Personal Development, Finances, Self Care",
         45000
        ],
        [
         "Albania",
         "Hairs Out of Place",
         44000
        ],
        [
         "Congo",
         "Our Kid Things",
         44000
        ],
        [
         "Maldives",
         "Thrive Causemetics",
         43000
        ],
        [
         "Algeria",
         "Caroline|CarolineVencil.com | Saving & Making Money | Pro Blogger",
         42000
        ],
        [
         "American Samoa",
         "TheFab20s | Travel+Food+DIY+Listicles",
         42000
        ],
        [
         "Bahamas",
         "Her Packing List | Minimalist Travel Essentials & Tips for Women",
         41000
        ],
        [
         "Chile",
         "Quotes (Inspirational +Motivational+Love Quotes)",
         40000
        ],
        [
         "French Southern Territories",
         "Salvaged Living",
         40000
        ],
        [
         "Greece",
         "Health, Fitness & Styles | BKP",
         37000
        ],
        [
         "Zimbabwe",
         "Crafted by the Hunts | Home DIY and Design",
         35000
        ],
        [
         "Brunei Darussalam",
         "Almacen de Globos",
         34000
        ],
        [
         "Benin",
         "The Joy of Sharing",
         34000
        ],
        [
         "Congo",
         "Find Us Lost | A Travel Blog",
         33000
        ],
        [
         "Angola",
         "Biba Magazine",
         32000
        ],
        [
         "Aruba",
         "Breezy Special Ed",
         31000
        ],
        [
         "Comoros",
         "Simple Lionheart Life",
         31000
        ],
        [
         "Antigua and Barbuda",
         "Everyday Wholesome",
         31000
        ],
        [
         "Dominican Republic",
         "Maria Louise Design",
         31000
        ],
        [
         "Christmas Island",
         "Instructables",
         30000
        ],
        [
         "Bangladesh",
         "Architectural Digest",
         30000
        ],
        [
         "Guatemala",
         "GrowingSlower",
         30000
        ],
        [
         "Belarus",
         "Salt in our Hair",
         29000
        ],
        [
         "Portugal",
         "Lindsey Blogs",
         29000
        ],
        [
         "Isle of Man",
         "Jasminxg",
         29000
        ],
        [
         "Australia",
         "LLEGANCE | Workwear Fashion Woman Advice For Driven Professionals",
         28000
        ],
        [
         "Barbados",
         "Nicki ",
         28000
        ],
        [
         "Congo",
         "Shawn Petite",
         27000
        ],
        [
         "Bosnia and Herzegovina",
         "The College Investor",
         27000
        ],
        [
         "Afghanistan",
         "It's me, JD | DIY, Crafts, Home & Organization",
         27000
        ],
        [
         "Bulgaria",
         "Living Low Key | Save Money, Make Money, & Frugal Living",
         26000
        ],
        [
         "Canada",
         "Sophie Felts Floral Design",
         26000
        ],
        [
         "Antarctica (the territory South of 60 deg S)",
         "Queen Bee of Honey Dos - Home Improvement + DIY",
         25000
        ],
        [
         "Armenia",
         "The Arty Teacher",
         25000
        ],
        [
         "Cote d'Ivoire",
         "Math Giraffe",
         25000
        ],
        [
         "Angola",
         "Thrifted & Taylor'd | Fashion, DIY, and Home Decor Blogger",
         24000
        ],
        [
         "Gambia",
         "Craft Warehouse",
         23000
        ],
        [
         "Cambodia",
         "Melanie | Southern Crush at Home | DIY ideas | Seasonal DIY Decor",
         23000
        ],
        [
         "Mauritania",
         "The Literacy Nest",
         22000
        ],
        [
         "Macao",
         "Cassidy Lucille | College and Lifestyle",
         22000
        ],
        [
         "Australia",
         "Jess Wandering",
         22000
        ],
        [
         "Belize",
         "Teaching Special Thinkers",
         21000
        ],
        [
         "Seychelles",
         "ALL FOR WOMAN",
         21000
        ],
        [
         "Albania",
         "Bored Panda",
         20000
        ],
        [
         "Albania",
         "Projects with Kids",
         20000
        ],
        [
         "Estonia",
         "The Homeschool Scientist",
         20000
        ],
        [
         "Afghanistan",
         "Blossom",
         20000
        ],
        [
         "Afghanistan",
         "Walmart",
         20000
        ],
        [
         "American Samoa",
         "wikiHow",
         20000
        ],
        [
         "Australia",
         "Mujer de 10 ",
         20000
        ],
        [
         "Australia",
         "Ashley - Modern Glam",
         19000
        ],
        [
         "Chile",
         "Amber Strong - The Maker’s Map | DIY’s, Crafts & Home Decor",
         19000
        ],
        [
         "Jamaica",
         "Financial Toolkit",
         19000
        ],
        [
         "Austria",
         "Karibikfruechtchen",
         19000
        ],
        [
         "Bulgaria",
         "Primarily Speaking",
         19000
        ],
        [
         "Andorra",
         "Hayley Focsan | Health, food and Liftestyle Blogger",
         19000
        ],
        [
         "Saint Pierre and Miquelon",
         "Beauty Products Are My Cardio: High End Beauty & Drugstore Finds ",
         18000
        ],
        [
         "British Virgin Islands",
         "DollarSprout",
         18000
        ],
        [
         "Niger",
         "Bridget Hennessey",
         17000
        ],
        [
         "Ethiopia",
         "Sarah Wahl | Crestfox",
         17000
        ],
        [
         "Croatia",
         "Budgets Made Easy",
         17000
        ],
        [
         "Japan",
         "Eyes On Walls",
         17000
        ],
        [
         "Greece",
         "My Pear Tree Home",
         15000
        ],
        [
         "Israel",
         "MashUp Math",
         15000
        ],
        [
         "Cyprus",
         "Tattoos N Rings ",
         14000
        ],
        [
         "France",
         "Sunshine Whispers",
         14000
        ],
        [
         "Azerbaijan",
         "Esavingsblog",
         14000
        ],
        [
         "Uganda",
         "Jean Stoffer Design",
         13000
        ],
        [
         "Marshall Islands",
         "Dashing Darlin' ",
         13000
        ],
        [
         "Ecuador",
         "Wedding Planner Coach/ Culture Wedding PR Firm",
         13000
        ],
        [
         "Macedonia",
         "British Beauty Blogger- Beauty Reviews, Style & More",
         12000
        ],
        [
         "Bouvet Island (Bouvetoya)",
         "To Some Place New | Travel Blog | Europe Travel & Beyond",
         12000
        ],
        [
         "Oman",
         "CentSai |  Personal Finance | Budgeting and Saving Money",
         11000
        ],
        [
         "Christmas Island",
         "WranglerForum.com",
         11000
        ],
        [
         "Aruba",
         "Traci Bender - The Bender Bunch",
         11000
        ],
        [
         "Kyrgyz Republic",
         "Funding Cloud Nine",
         11000
        ],
        [
         "Guatemala",
         "Frugal Mom Guide | Saving Money Tips, Making Money, Budgeting",
         10000
        ],
        [
         "Antarctica (the territory South of 60 deg S)",
         "Refinery29",
         10000
        ],
        [
         "Antigua and Barbuda",
         "Country Living Magazine",
         10000
        ],
        [
         "Austria",
         "Wanderlust Chloe ✈️ Travel guides, inspo and adventure travel ✈️",
         10000
        ],
        [
         "Ghana",
         "goldie",
         10000
        ],
        [
         "Lithuania",
         "The Bespoke ELA Classroom",
         10000
        ],
        [
         "Canada",
         "Elle Marie Home | DIY Home Decor + Crochet + Holiday Crafts",
         10000
        ],
        [
         "Australia",
         "Cultura Colectiva",
         10000
        ],
        [
         "Andorra",
         "Teachers Pay Teachers",
         10000
        ],
        [
         "Christmas Island",
         "OUR NEXT ADVENTURE | family travel blog",
         9000
        ],
        [
         "Jamaica",
         "Kidz Entertainment, Inc.",
         9000
        ],
        [
         "Egypt",
         "South Lumina Style",
         9000
        ],
        [
         "Estonia",
         "Branding Addicts",
         9000
        ],
        [
         "Turkey",
         "My Little Poppies (Cait Curley, MA/CAGS)",
         9000
        ],
        [
         "Armenia",
         "Pacho Tattoo",
         9000
        ],
        [
         "Nicaragua",
         "Land Rover USA",
         9000
        ],
        [
         "Armenia",
         "Jiew82633",
         8000
        ],
        [
         "Jamaica",
         "hobbyDB",
         8000
        ],
        [
         "Canada",
         "Diana's Healthy Living | Luxury Adventure Travel Blog",
         7000
        ],
        [
         "Netherlands Antilles",
         "Kim Cook-Thirteen Chairs-Slates Mugs And Tees",
         7000
        ],
        [
         "India",
         "Travel Mad Mum",
         7000
        ],
        [
         "Saint Kitts and Nevis",
         "Autotrader",
         7000
        ],
        [
         "Argentina",
         "Boop Decals",
         7000
        ],
        [
         "Gabon",
         "Expatolife",
         7000
        ],
        [
         "Aruba",
         "Global Assignment Help Australia",
         6000
        ],
        [
         "Faroe Islands",
         " Travel Pins Design Ideas",
         6000
        ],
        [
         "Mozambique",
         "Ovetta Jackson",
         6000
        ],
        [
         "Cambodia",
         "Mixed Media Crafts",
         6000
        ],
        [
         "Aruba",
         "ifyousayido",
         5000
        ],
        [
         "Aruba",
         "Wear24-7",
         5000
        ],
        [
         "Germany",
         "QC Career School",
         5000
        ],
        [
         "Tanzania",
         "Kevmrc travel",
         5000
        ],
        [
         "Jersey",
         "Princess",
         5000
        ],
        [
         "Korea",
         "Kathryn Trattner",
         5000
        ],
        [
         "Australia",
         "Write Your Story | Budgeting, Healthy Lifestyle, Faith",
         5000
        ],
        [
         "Kenya",
         "Laura- Inspire My Play | Play & Learning For Little Kids",
         4000
        ],
        [
         "Dominican Republic",
         "Clare - Homeschool of One | Homeschooling Tips, Resources & Fun",
         4000
        ],
        [
         "Solomon Islands",
         "Feathered Arrow | Kari | Wedding Planner, Educator+Podcast Host",
         4000
        ],
        [
         "Estonia",
         "Net-Maquettes",
         4000
        ],
        [
         "Togo",
         "debra",
         4000
        ],
        [
         "Botswana",
         "RapidLeaks",
         4000
        ],
        [
         "Azerbaijan",
         "My Debt Epiphany | Money Making Tips | Frugal Living | Debt Free",
         4000
        ],
        [
         "Montserrat",
         "Taming Little Monsters - Fun Activities for Kids",
         4000
        ],
        [
         "Zambia",
         "Craft and Lore",
         3000
        ],
        [
         "Dominican Republic",
         "Petite in Paris",
         3000
        ],
        [
         "Palestinian Territory",
         "MyTessabit",
         3000
        ],
        [
         "Kuwait",
         "Kathryn Egly",
         3000
        ],
        [
         "Argentina",
         "Tony",
         3000
        ],
        [
         "Bhutan",
         "Kids Crafts & Free Preschool Printables- Sharing Our Experiences",
         3000
        ],
        [
         "Israel",
         "LISA MASLYK / VOICE OVER TALENT /ACTOR",
         3000
        ],
        [
         "Benin",
         "Prettyluhhazel",
         3000
        ],
        [
         "Ethiopia",
         "Dafina | Dollars Plus Sense | FREE Household Budget Printables",
         2000
        ],
        [
         "El Salvador",
         "Travel-boo | Marco Santos | Portugal & Spain Travel Blogger",
         2000
        ],
        [
         "Angola",
         "Dollar Financials | Make Money Online, Save Money and Personal Finance Tips",
         2000
        ],
        [
         "Equatorial Guinea",
         "Betty McKnit Knit and Crochet Pattern Designer & Instructor",
         2000
        ],
        [
         "Libyan Arab Jamahiriya",
         "Clyde Brokaw",
         2000
        ],
        [
         "Saint Kitts and Nevis",
         "Heartwork City by Artist Denise Braun",
         2000
        ],
        [
         "Djibouti",
         "Weston Boucher",
         2000
        ],
        [
         "Kyrgyz Republic",
         "Whitney Brown",
         2000
        ],
        [
         "Gibraltar",
         "Learn Play Read",
         2000
        ],
        [
         "Guyana",
         "Julian ",
         2000
        ],
        [
         "Kuwait",
         "Vinyl Written",
         1000
        ],
        [
         "Panama",
         "Alanna | Periodic Adventures",
         1000
        ],
        [
         "Guinea-Bissau",
         "WELIKEBALI",
         1000
        ],
        [
         "Samoa",
         "Michael Godard Art Gallery",
         1000
        ],
        [
         "Jersey",
         "Raúl Castillo",
         1000
        ],
        [
         "Chad",
         "ManiMe | Custom-Fit, Stick-On Gel Nails",
         1000
        ],
        [
         "Finland",
         "Maggie Panning",
         1000
        ],
        [
         "Sudan",
         "iElylike ..✿◕‿◕✿ஐ✿◕‿◕✿",
         940
        ],
        [
         "Nicaragua",
         "marie amaro",
         893
        ],
        [
         "Kenya",
         "Life Style '99",
         883
        ],
        [
         "Bermuda",
         "Love & Lion",
         873
        ],
        [
         "Sao Tome and Principe",
         "Bookmarks Retail",
         793
        ],
        [
         "India",
         "Alexandria Paris Interior Designer, Feng shui, Slow Design",
         740
        ],
        [
         "Marshall Islands",
         "Neeba♥️ | Content Creation • Online business",
         649
        ],
        [
         "Poland",
         "Bring Me Tacos",
         637
        ],
        [
         "Tanzania",
         "Valerie Fodstad",
         609
        ],
        [
         "Nicaragua",
         "Mary Lee",
         605
        ],
        [
         "Montserrat",
         "Sarah M. Mojica",
         539
        ],
        [
         "Anguilla",
         "Stephanie Stiteler",
         466
        ],
        [
         "Falkland Islands (Malvinas)",
         "R.A. Parker",
         442
        ],
        [
         "Cocos (Keeling) Islands",
         "Ray Uyemura",
         437
        ],
        [
         "Eritrea",
         "Aimee Miley",
         405
        ],
        [
         "New Caledonia",
         "Au'vey Smith",
         377
        ],
        [
         "Grenada",
         "p hump",
         314
        ],
        [
         "Isle of Man",
         "Annamarie Hilton",
         313
        ],
        [
         "Ecuador",
         "Utopian Trimmings",
         295
        ],
        [
         "Palau",
         "Christie Will",
         274
        ],
        [
         "Poland",
         "BEIMER",
         265
        ],
        [
         "Ecuador",
         "Midwest Jewelers & Estate Buyers",
         265
        ],
        [
         "Trinidad and Tobago",
         "Syndi Mulcahy",
         254
        ],
        [
         "Antarctica (the territory South of 60 deg S)",
         "Maloona",
         203
        ],
        [
         "Norway",
         "DailyDose",
         189
        ],
        [
         "Angola",
         "Kel and Co",
         177
        ],
        [
         "Netherlands Antilles",
         "Venelin Elenkov",
         171
        ],
        [
         "Australia",
         "Your Home, Reimagined LLC",
         137
        ],
        [
         "Papua New Guinea",
         "AnnaLee Kick",
         112
        ],
        [
         "Philippines",
         "Life of Neon | Custom Neon Light Signs | Home Decor Wall Art",
         111
        ],
        [
         "Switzerland",
         "Latasha Webster",
         83
        ],
        [
         "Holy See (Vatican City State)",
         "aespup",
         79
        ],
        [
         "Cape Verde",
         "Jooosy",
         77
        ],
        [
         "Botswana",
         "Summers Capital Investments",
         76
        ],
        [
         "American Samoa",
         "Davosa USA",
         59
        ],
        [
         "Myanmar",
         "The Purple Chickadee",
         49
        ],
        [
         "Chad",
         "Jordan Mackenzie",
         47
        ],
        [
         "New Caledonia",
         "sean drake",
         44
        ],
        [
         "Ecuador",
         "josue",
         39
        ],
        [
         "United States Virgin Islands",
         "Pamisva",
         33
        ],
        [
         "Aruba",
         "Mala Rock | Rock T-shirts",
         27
        ],
        [
         "Tanzania",
         "mj",
         26
        ],
        [
         "Finland",
         "Mccready-romero",
         20
        ],
        [
         "Seychelles",
         "Awesthetics by Amy Wong",
         18
        ],
        [
         "Saint Vincent and the Grenadines",
         "Home Etc",
         13
        ],
        [
         "Rwanda",
         "Erin Pothier",
         10
        ],
        [
         "Solomon Islands",
         "anabel",
         8
        ],
        [
         "Marshall Islands",
         "Hustle Chick",
         7
        ],
        [
         "American Samoa",
         "K&S Precision Metals",
         5
        ],
        [
         "Kiribati",
         "Nancy",
         3
        ],
        [
         "Cambodia",
         "Lovely Little Things, TN",
         0
        ],
        [
         "El Salvador",
         "Legendary ltd.",
         0
        ],
        [
         "Lebanon",
         "Ajit Irom",
         0
        ],
        [
         "Colombia",
         "Consuelo Aguirre",
         0
        ],
        [
         "Netherlands Antilles",
         "Olc",
         0
        ],
        [
         "Guinea-Bissau",
         "Livitrevisani",
         0
        ],
        [
         "Tonga",
         "Grecia Perales",
         0
        ],
        [
         "Albania",
         null,
         null
        ]
       ],
       "datasetInfos": [],
       "dbfsResultPath": null,
       "isJsonSchema": true,
       "metadata": {},
       "overflow": false,
       "plotOptions": {
        "customPlotOptions": {},
        "displayType": "table",
        "pivotAggregation": null,
        "pivotColumns": null,
        "xColumns": null,
        "yColumns": null
       },
       "removedWidgets": [],
       "schema": [
        {
         "metadata": "{}",
         "name": "country",
         "type": "\"string\""
        },
        {
         "metadata": "{}",
         "name": "poster_name",
         "type": "\"string\""
        },
        {
         "metadata": "{}",
         "name": "follower_count",
         "type": "\"integer\""
        }
       ],
       "type": "table"
      }
     },
     "output_type": "display_data"
    },
    {
     "output_type": "display_data",
     "data": {
      "text/html": [
       "<style scoped>\n",
       "  .table-result-container {\n",
       "    max-height: 300px;\n",
       "    overflow: auto;\n",
       "  }\n",
       "  table, th, td {\n",
       "    border: 1px solid black;\n",
       "    border-collapse: collapse;\n",
       "  }\n",
       "  th, td {\n",
       "    padding: 5px;\n",
       "  }\n",
       "  th {\n",
       "    text-align: left;\n",
       "  }\n",
       "</style><div class='table-result-container'><table class='table-result'><thead style='background-color: white'><tr><th>country</th><th>follower_count</th></tr></thead><tbody><tr><td>Algeria</td><td>942000</td></tr></tbody></table></div>"
      ]
     },
     "metadata": {
      "application/vnd.databricks.v1+output": {
       "addedWidgets": {},
       "aggData": [],
       "aggError": "",
       "aggOverflow": false,
       "aggSchema": [],
       "aggSeriesLimitReached": false,
       "aggType": "",
       "arguments": {},
       "columnCustomDisplayInfos": {},
       "data": [
        [
         "Algeria",
         942000
        ]
       ],
       "datasetInfos": [],
       "dbfsResultPath": null,
       "isJsonSchema": true,
       "metadata": {},
       "overflow": false,
       "plotOptions": {
        "customPlotOptions": {},
        "displayType": "table",
        "pivotAggregation": null,
        "pivotColumns": null,
        "xColumns": null,
        "yColumns": null
       },
       "removedWidgets": [],
       "schema": [
        {
         "metadata": "{}",
         "name": "country",
         "type": "\"string\""
        },
        {
         "metadata": "{}",
         "name": "follower_count",
         "type": "\"integer\""
        }
       ],
       "type": "table"
      }
     },
     "output_type": "display_data"
    }
   ],
   "source": [
    "# Query 3 - (a) User with Most Followers in Each Country\n",
    "\n",
    "# Step 1: Find the user with the most followers for each country\n",
    "query_3a = df_pin_geo.groupBy(\"country\", \"poster_name\") \\\n",
    "    .agg(max(\"follower_count\").alias(\"follower_count\")) \\\n",
    "    .orderBy(desc(\"follower_count\"))\n",
    "\n",
    "# Display the result\n",
    "display(query_3a)\n",
    "\n",
    "\n",
    "# Query 3 - (b) Country with User with Most Followers\n",
    "\n",
    "# Step 2: Find the country with the user having the most followers\n",
    "query_3b = query_3a.orderBy(col(\"follower_count\").desc()) \\\n",
    "    .drop(col(\"poster_name\")) \\\n",
    "    .limit(1)\n",
    "\n",
    "# Display the result\n",
    "display(query_3b)"
   ]
  },
  {
   "cell_type": "code",
   "execution_count": 0,
   "metadata": {
    "application/vnd.databricks.v1+cell": {
     "cellMetadata": {
      "byteLimit": 2048000,
      "rowLimit": 10000
     },
     "inputWidgets": {},
     "nuid": "cb222aa5-f6a8-46cf-be34-4caf4540b956",
     "showTitle": false,
     "title": ""
    }
   },
   "outputs": [
    {
     "output_type": "display_data",
     "data": {
      "text/html": [
       "<style scoped>\n",
       "  .table-result-container {\n",
       "    max-height: 300px;\n",
       "    overflow: auto;\n",
       "  }\n",
       "  table, th, td {\n",
       "    border: 1px solid black;\n",
       "    border-collapse: collapse;\n",
       "  }\n",
       "  th, td {\n",
       "    padding: 5px;\n",
       "  }\n",
       "  th {\n",
       "    text-align: left;\n",
       "  }\n",
       "</style><div class='table-result-container'><table class='table-result'><thead style='background-color: white'><tr><th>age_group</th><th>category</th><th>category_count</th></tr></thead><tbody><tr><td>18-24</td><td>tattoos</td><td>33</td></tr><tr><td>25-35</td><td>christmas</td><td>20</td></tr><tr><td>36-50</td><td>beauty</td><td>11</td></tr><tr><td>+50</td><td>beauty</td><td>7</td></tr></tbody></table></div>"
      ]
     },
     "metadata": {
      "application/vnd.databricks.v1+output": {
       "addedWidgets": {},
       "aggData": [],
       "aggError": "",
       "aggOverflow": false,
       "aggSchema": [],
       "aggSeriesLimitReached": false,
       "aggType": "",
       "arguments": {},
       "columnCustomDisplayInfos": {},
       "data": [
        [
         "18-24",
         "tattoos",
         33
        ],
        [
         "25-35",
         "christmas",
         20
        ],
        [
         "36-50",
         "beauty",
         11
        ],
        [
         "+50",
         "beauty",
         7
        ]
       ],
       "datasetInfos": [],
       "dbfsResultPath": null,
       "isJsonSchema": true,
       "metadata": {},
       "overflow": false,
       "plotOptions": {
        "customPlotOptions": {},
        "displayType": "table",
        "pivotAggregation": null,
        "pivotColumns": null,
        "xColumns": null,
        "yColumns": null
       },
       "removedWidgets": [],
       "schema": [
        {
         "metadata": "{}",
         "name": "age_group",
         "type": "\"string\""
        },
        {
         "metadata": "{}",
         "name": "category",
         "type": "\"string\""
        },
        {
         "metadata": "{}",
         "name": "category_count",
         "type": "\"long\""
        }
       ],
       "type": "table"
      }
     },
     "output_type": "display_data"
    }
   ],
   "source": [
    "# Query 4 - Most Popular Category for Each Age Group\n",
    "\n",
    "# Create a DataFrame and order by the custom order for age groups\n",
    "df_pin_user = df_pin.join(df_user, \"ind\", \"inner\").withColumn(\n",
    "    \"age_group\",\n",
    "    when((col(\"age\") >= 18) & (col(\"age\") <= 24), \"18-24\")\\\n",
    "    .when((col(\"age\") >= 25) & (col(\"age\") <= 35), \"25-35\")\\\n",
    "    .when((col(\"age\") >= 36) & (col(\"age\") <= 50), \"36-50\")\\\n",
    "    .otherwise(\"+50\")\n",
    ")\n",
    "\n",
    "# Define the custom order for age groups\n",
    "age_group_order = expr(\"CASE WHEN age_group = '+50' THEN 1 ELSE 0 END\"), col(\"age_group\")\n",
    "\n",
    "# Define window specification for partitioning age_group by category_count\n",
    "windowSpec_2 = Window.partitionBy(\"age_group\").orderBy(col(\"category_count\").desc())\n",
    "\n",
    "# Perform grouping, aggregation, and ordering in a single step\n",
    "query_4 = df_pin_user.groupBy(\"age_group\", \"category\") \\\n",
    "    .agg(count(\"category\").alias(\"category_count\")) \\\n",
    "    .withColumn(\"rank\", row_number().over(windowSpec_2)) \\\n",
    "    .filter(col(\"rank\") == 1) \\\n",
    "    .drop(\"rank\") \\\n",
    "    .orderBy(*age_group_order)\n",
    "\n",
    "# Display the result\n",
    "display(query_4)"
   ]
  },
  {
   "cell_type": "code",
   "execution_count": 0,
   "metadata": {
    "application/vnd.databricks.v1+cell": {
     "cellMetadata": {
      "byteLimit": 2048000,
      "rowLimit": 10000
     },
     "inputWidgets": {},
     "nuid": "0debd3e8-1c22-4675-a129-80f2a5b87eed",
     "showTitle": false,
     "title": ""
    }
   },
   "outputs": [
    {
     "output_type": "display_data",
     "data": {
      "text/html": [
       "<style scoped>\n",
       "  .table-result-container {\n",
       "    max-height: 300px;\n",
       "    overflow: auto;\n",
       "  }\n",
       "  table, th, td {\n",
       "    border: 1px solid black;\n",
       "    border-collapse: collapse;\n",
       "  }\n",
       "  th, td {\n",
       "    padding: 5px;\n",
       "  }\n",
       "  th {\n",
       "    text-align: left;\n",
       "  }\n",
       "</style><div class='table-result-container'><table class='table-result'><thead style='background-color: white'><tr><th>age_group</th><th>median_follower_count</th></tr></thead><tbody><tr><td>18-24</td><td>50000</td></tr><tr><td>25-35</td><td>41000</td></tr><tr><td>36-50</td><td>5000</td></tr><tr><td>+50</td><td>560</td></tr></tbody></table></div>"
      ]
     },
     "metadata": {
      "application/vnd.databricks.v1+output": {
       "addedWidgets": {},
       "aggData": [],
       "aggError": "",
       "aggOverflow": false,
       "aggSchema": [],
       "aggSeriesLimitReached": false,
       "aggType": "",
       "arguments": {},
       "columnCustomDisplayInfos": {},
       "data": [
        [
         "18-24",
         50000
        ],
        [
         "25-35",
         41000
        ],
        [
         "36-50",
         5000
        ],
        [
         "+50",
         560
        ]
       ],
       "datasetInfos": [],
       "dbfsResultPath": null,
       "isJsonSchema": true,
       "metadata": {},
       "overflow": false,
       "plotOptions": {
        "customPlotOptions": {},
        "displayType": "table",
        "pivotAggregation": null,
        "pivotColumns": null,
        "xColumns": null,
        "yColumns": null
       },
       "removedWidgets": [],
       "schema": [
        {
         "metadata": "{}",
         "name": "age_group",
         "type": "\"string\""
        },
        {
         "metadata": "{}",
         "name": "median_follower_count",
         "type": "\"integer\""
        }
       ],
       "type": "table"
      }
     },
     "output_type": "display_data"
    }
   ],
   "source": [
    "# Query 5 - Median Follower Count for Different Age Groups\n",
    "\n",
    "# Calculate the median follower count for each age group\n",
    "query_5 = df_pin_user.groupBy(\"age_group\") \\\n",
    "    .agg(percentile_approx(\"follower_count\", 0.5).alias(\"median_follower_count\")) \\\n",
    "    .orderBy(*age_group_order)\n",
    "\n",
    "# Display the result\n",
    "display(query_5)"
   ]
  },
  {
   "cell_type": "code",
   "execution_count": 0,
   "metadata": {
    "application/vnd.databricks.v1+cell": {
     "cellMetadata": {
      "byteLimit": 2048000,
      "rowLimit": 10000
     },
     "inputWidgets": {},
     "nuid": "16515bfc-44d8-4992-ba9a-b58d11c9dcbe",
     "showTitle": false,
     "title": ""
    }
   },
   "outputs": [
    {
     "output_type": "display_data",
     "data": {
      "text/html": [
       "<style scoped>\n",
       "  .table-result-container {\n",
       "    max-height: 300px;\n",
       "    overflow: auto;\n",
       "  }\n",
       "  table, th, td {\n",
       "    border: 1px solid black;\n",
       "    border-collapse: collapse;\n",
       "  }\n",
       "  th, td {\n",
       "    padding: 5px;\n",
       "  }\n",
       "  th {\n",
       "    text-align: left;\n",
       "  }\n",
       "</style><div class='table-result-container'><table class='table-result'><thead style='background-color: white'><tr><th>post_year</th><th>number_users_joined</th></tr></thead><tbody><tr><td>2015</td><td>204</td></tr><tr><td>2016</td><td>228</td></tr><tr><td>2017</td><td>74</td></tr></tbody></table></div>"
      ]
     },
     "metadata": {
      "application/vnd.databricks.v1+output": {
       "addedWidgets": {},
       "aggData": [],
       "aggError": "",
       "aggOverflow": false,
       "aggSchema": [],
       "aggSeriesLimitReached": false,
       "aggType": "",
       "arguments": {},
       "columnCustomDisplayInfos": {},
       "data": [
        [
         2015,
         204
        ],
        [
         2016,
         228
        ],
        [
         2017,
         74
        ]
       ],
       "datasetInfos": [],
       "dbfsResultPath": null,
       "isJsonSchema": true,
       "metadata": {},
       "overflow": false,
       "plotOptions": {
        "customPlotOptions": {},
        "displayType": "table",
        "pivotAggregation": null,
        "pivotColumns": null,
        "xColumns": null,
        "yColumns": null
       },
       "removedWidgets": [],
       "schema": [
        {
         "metadata": "{}",
         "name": "post_year",
         "type": "\"integer\""
        },
        {
         "metadata": "{}",
         "name": "number_users_joined",
         "type": "\"long\""
        }
       ],
       "type": "table"
      }
     },
     "output_type": "display_data"
    }
   ],
   "source": [
    "# Query 6 - Number of Users Joined Each Year (2015-2020)\n",
    "\n",
    "# Calculate the number of users who joined each year\n",
    "query_6 = df_pin_user.withColumn(\"post_year\", year(col(\"date_joined\"))) \\\n",
    "    .filter(col(\"post_year\").between(2015, 2020)) \\\n",
    "    .groupBy(\"post_year\") \\\n",
    "    .agg(count(\"unique_id\").alias(\"number_users_joined\"))\n",
    "\n",
    "# Display the result\n",
    "display(query_6)"
   ]
  },
  {
   "cell_type": "code",
   "execution_count": 0,
   "metadata": {
    "application/vnd.databricks.v1+cell": {
     "cellMetadata": {
      "byteLimit": 2048000,
      "rowLimit": 10000
     },
     "inputWidgets": {},
     "nuid": "e094f664-c2f8-43d1-a715-66fa4d78599d",
     "showTitle": false,
     "title": ""
    }
   },
   "outputs": [
    {
     "output_type": "display_data",
     "data": {
      "text/html": [
       "<style scoped>\n",
       "  .table-result-container {\n",
       "    max-height: 300px;\n",
       "    overflow: auto;\n",
       "  }\n",
       "  table, th, td {\n",
       "    border: 1px solid black;\n",
       "    border-collapse: collapse;\n",
       "  }\n",
       "  th, td {\n",
       "    padding: 5px;\n",
       "  }\n",
       "  th {\n",
       "    text-align: left;\n",
       "  }\n",
       "</style><div class='table-result-container'><table class='table-result'><thead style='background-color: white'><tr><th>post_year</th><th>median_follower_count</th></tr></thead><tbody><tr><td>2015</td><td>56000</td></tr><tr><td>2016</td><td>19000</td></tr><tr><td>2017</td><td>4000</td></tr></tbody></table></div>"
      ]
     },
     "metadata": {
      "application/vnd.databricks.v1+output": {
       "addedWidgets": {},
       "aggData": [],
       "aggError": "",
       "aggOverflow": false,
       "aggSchema": [],
       "aggSeriesLimitReached": false,
       "aggType": "",
       "arguments": {},
       "columnCustomDisplayInfos": {},
       "data": [
        [
         2015,
         56000
        ],
        [
         2016,
         19000
        ],
        [
         2017,
         4000
        ]
       ],
       "datasetInfos": [],
       "dbfsResultPath": null,
       "isJsonSchema": true,
       "metadata": {},
       "overflow": false,
       "plotOptions": {
        "customPlotOptions": {},
        "displayType": "table",
        "pivotAggregation": null,
        "pivotColumns": null,
        "xColumns": null,
        "yColumns": null
       },
       "removedWidgets": [],
       "schema": [
        {
         "metadata": "{}",
         "name": "post_year",
         "type": "\"integer\""
        },
        {
         "metadata": "{}",
         "name": "median_follower_count",
         "type": "\"integer\""
        }
       ],
       "type": "table"
      }
     },
     "output_type": "display_data"
    }
   ],
   "source": [
    "# Query 7 - Median Follower Count Based on Joining Year\n",
    "\n",
    "# Calculate the median follower count for users who joined each year\n",
    "query_7 = df_pin_user.withColumn(\"post_year\", year(col(\"date_joined\"))) \\\n",
    "    .filter(col(\"post_year\").between(2015, 2020)) \\\n",
    "    .groupBy(\"post_year\") \\\n",
    "    .agg(percentile_approx(\"follower_count\", 0.5).alias(\"median_follower_count\"))\n",
    "\n",
    "# Display the result\n",
    "display(query_7)"
   ]
  },
  {
   "cell_type": "code",
   "execution_count": 0,
   "metadata": {
    "application/vnd.databricks.v1+cell": {
     "cellMetadata": {
      "byteLimit": 2048000,
      "rowLimit": 10000
     },
     "inputWidgets": {},
     "nuid": "60c572d9-be22-45be-8ffb-648ed8617e1a",
     "showTitle": false,
     "title": ""
    }
   },
   "outputs": [
    {
     "output_type": "display_data",
     "data": {
      "text/html": [
       "<style scoped>\n",
       "  .table-result-container {\n",
       "    max-height: 300px;\n",
       "    overflow: auto;\n",
       "  }\n",
       "  table, th, td {\n",
       "    border: 1px solid black;\n",
       "    border-collapse: collapse;\n",
       "  }\n",
       "  th, td {\n",
       "    padding: 5px;\n",
       "  }\n",
       "  th {\n",
       "    text-align: left;\n",
       "  }\n",
       "</style><div class='table-result-container'><table class='table-result'><thead style='background-color: white'><tr><th>age_group</th><th>post_year</th><th>median_follower_count</th></tr></thead><tbody><tr><td>18-24</td><td>2015</td><td>91000</td></tr><tr><td>25-35</td><td>2015</td><td>63000</td></tr><tr><td>36-50</td><td>2015</td><td>10000</td></tr><tr><td>+50</td><td>2015</td><td>120</td></tr><tr><td>18-24</td><td>2016</td><td>23000</td></tr><tr><td>25-35</td><td>2016</td><td>40000</td></tr><tr><td>36-50</td><td>2016</td><td>9000</td></tr><tr><td>+50</td><td>2016</td><td>763</td></tr><tr><td>18-24</td><td>2017</td><td>10000</td></tr><tr><td>25-35</td><td>2017</td><td>6000</td></tr><tr><td>36-50</td><td>2017</td><td>926</td></tr><tr><td>+50</td><td>2017</td><td>483</td></tr></tbody></table></div>"
      ]
     },
     "metadata": {
      "application/vnd.databricks.v1+output": {
       "addedWidgets": {},
       "aggData": [],
       "aggError": "",
       "aggOverflow": false,
       "aggSchema": [],
       "aggSeriesLimitReached": false,
       "aggType": "",
       "arguments": {},
       "columnCustomDisplayInfos": {},
       "data": [
        [
         "18-24",
         2015,
         91000
        ],
        [
         "25-35",
         2015,
         63000
        ],
        [
         "36-50",
         2015,
         10000
        ],
        [
         "+50",
         2015,
         120
        ],
        [
         "18-24",
         2016,
         23000
        ],
        [
         "25-35",
         2016,
         40000
        ],
        [
         "36-50",
         2016,
         9000
        ],
        [
         "+50",
         2016,
         763
        ],
        [
         "18-24",
         2017,
         10000
        ],
        [
         "25-35",
         2017,
         6000
        ],
        [
         "36-50",
         2017,
         926
        ],
        [
         "+50",
         2017,
         483
        ]
       ],
       "datasetInfos": [],
       "dbfsResultPath": null,
       "isJsonSchema": true,
       "metadata": {},
       "overflow": false,
       "plotOptions": {
        "customPlotOptions": {},
        "displayType": "table",
        "pivotAggregation": null,
        "pivotColumns": null,
        "xColumns": null,
        "yColumns": null
       },
       "removedWidgets": [],
       "schema": [
        {
         "metadata": "{}",
         "name": "age_group",
         "type": "\"string\""
        },
        {
         "metadata": "{}",
         "name": "post_year",
         "type": "\"integer\""
        },
        {
         "metadata": "{}",
         "name": "median_follower_count",
         "type": "\"integer\""
        }
       ],
       "type": "table"
      }
     },
     "output_type": "display_data"
    }
   ],
   "source": [
    "# Query 8 - Median Follower Count Based on Joining Year and Age Group\n",
    "\n",
    "# Calculate the median follower count for users who joined each year, based on age group\n",
    "query_8 = df_pin_user.withColumn(\"post_year\", year(col(\"date_joined\"))) \\\n",
    "    .filter(col(\"post_year\").between(2015, 2020)) \\\n",
    "    .groupBy(\"age_group\", \"post_year\") \\\n",
    "    .agg(percentile_approx(\"follower_count\", 0.5).alias(\"median_follower_count\")) \\\n",
    "    .orderBy(col(\"post_year\").asc(), *age_group_order)\n",
    "\n",
    "# Display the result\n",
    "display(query_8)"
   ]
  }
 ],
 "metadata": {
  "application/vnd.databricks.v1+notebook": {
   "dashboards": [],
   "language": "python",
   "notebookMetadata": {
    "pythonIndentUnit": 4
   },
   "notebookName": "AiCore_Pinterest",
   "widgets": {}
  }
 },
 "nbformat": 4,
 "nbformat_minor": 0
}
