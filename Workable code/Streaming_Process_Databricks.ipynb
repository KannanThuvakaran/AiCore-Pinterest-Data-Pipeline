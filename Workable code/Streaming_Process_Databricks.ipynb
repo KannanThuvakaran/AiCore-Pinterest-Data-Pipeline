{
 "cells": [
  {
   "cell_type": "code",
   "execution_count": 0,
   "metadata": {
    "application/vnd.databricks.v1+cell": {
     "cellMetadata": {
      "byteLimit": 2048000,
      "rowLimit": 10000
     },
     "inputWidgets": {},
     "nuid": "da1a1585-8f6d-49df-8490-d7ddec412599",
     "showTitle": false,
     "title": ""
    }
   },
   "outputs": [
    {
     "output_type": "display_data",
     "data": {
      "text/html": [
       "<style scoped>\n",
       "  .ansiout {\n",
       "    display: block;\n",
       "    unicode-bidi: embed;\n",
       "    white-space: pre-wrap;\n",
       "    word-wrap: break-word;\n",
       "    word-break: break-all;\n",
       "    font-family: \"Menlo\", \"Monaco\", \"Consolas\", \"Ubuntu Mono\", \"Source Code Pro\", monospace;\n",
       "    font-size: 13px;\n",
       "    color: #555;\n",
       "    margin-left: 4px;\n",
       "    line-height: 19px;\n",
       "  }\n",
       "</style>\n",
       "<div class=\"ansiout\"></div>"
      ]
     },
     "metadata": {
      "application/vnd.databricks.v1+output": {
       "addedWidgets": {},
       "arguments": {},
       "data": "<div class=\"ansiout\"></div>",
       "datasetInfos": [],
       "metadata": {},
       "removedWidgets": [],
       "type": "html"
      }
     },
     "output_type": "display_data"
    }
   ],
   "source": [
    "# Import Libraries\n",
    "\n",
    "from pyspark.sql.types import *\n",
    "from pyspark.sql.functions import *\n",
    "import urllib"
   ]
  },
  {
   "cell_type": "code",
   "execution_count": 0,
   "metadata": {
    "application/vnd.databricks.v1+cell": {
     "cellMetadata": {
      "byteLimit": 2048000,
      "rowLimit": 10000
     },
     "inputWidgets": {},
     "nuid": "26d1ea49-da8e-4786-bb3f-e96327f0d46a",
     "showTitle": false,
     "title": ""
    }
   },
   "outputs": [
    {
     "output_type": "display_data",
     "data": {
      "text/html": [
       "<style scoped>\n",
       "  .ansiout {\n",
       "    display: block;\n",
       "    unicode-bidi: embed;\n",
       "    white-space: pre-wrap;\n",
       "    word-wrap: break-word;\n",
       "    word-break: break-all;\n",
       "    font-family: \"Menlo\", \"Monaco\", \"Consolas\", \"Ubuntu Mono\", \"Source Code Pro\", monospace;\n",
       "    font-size: 13px;\n",
       "    color: #555;\n",
       "    margin-left: 4px;\n",
       "    line-height: 19px;\n",
       "  }\n",
       "</style>\n",
       "<div class=\"ansiout\"></div>"
      ]
     },
     "metadata": {
      "application/vnd.databricks.v1+output": {
       "addedWidgets": {},
       "arguments": {},
       "data": "<div class=\"ansiout\"></div>",
       "datasetInfos": [],
       "metadata": {},
       "removedWidgets": [],
       "type": "html"
      }
     },
     "output_type": "display_data"
    }
   ],
   "source": [
    "# Setup and Authentication\n",
    "\n",
    "# Define the path to the Delta table\n",
    "delta_table_path = \"dbfs:/user/hive/warehouse/authentication_credentials\"\n",
    "\n",
    "# Read the Delta table to a Spark DataFrame\n",
    "aws_keys_df = spark.read.format(\"delta\").load(delta_table_path)\n",
    "\n",
    "# Extract the AWS access key and secret key from the Spark DataFrame\n",
    "ACCESS_KEY = aws_keys_df.select('Access key ID').collect()[0]['Access key ID']\n",
    "SECRET_KEY = aws_keys_df.select('Secret access key').collect()[0]['Secret access key']\n",
    "\n",
    "# Encode the secret key\n",
    "ENCODED_SECRET_KEY = urllib.parse.quote(string=SECRET_KEY, safe=\"\")\n",
    "\n",
    "# Disable format checking for the Delta table\n",
    "spark.conf.set(\"spark.databricks.delta.formatCheck.enabled\", \"false\")"
   ]
  },
  {
   "cell_type": "code",
   "execution_count": 0,
   "metadata": {
    "application/vnd.databricks.v1+cell": {
     "cellMetadata": {
      "byteLimit": 2048000,
      "implicitDf": true,
      "rowLimit": 10000
     },
     "inputWidgets": {},
     "nuid": "c0351b30-8b2b-4c40-95ae-30596dd442ed",
     "showTitle": false,
     "title": ""
    }
   },
   "outputs": [
    {
     "output_type": "display_data",
     "data": {
      "text/html": [
       "<style scoped>\n",
       "  .ansiout {\n",
       "    display: block;\n",
       "    unicode-bidi: embed;\n",
       "    white-space: pre-wrap;\n",
       "    word-wrap: break-word;\n",
       "    word-break: break-all;\n",
       "    font-family: \"Menlo\", \"Monaco\", \"Consolas\", \"Ubuntu Mono\", \"Source Code Pro\", monospace;\n",
       "    font-size: 13px;\n",
       "    color: #555;\n",
       "    margin-left: 4px;\n",
       "    line-height: 19px;\n",
       "  }\n",
       "</style>\n",
       "<div class=\"ansiout\"></div>"
      ]
     },
     "metadata": {
      "application/vnd.databricks.v1+output": {
       "addedWidgets": {},
       "arguments": {},
       "data": "<div class=\"ansiout\"></div>",
       "datasetInfos": [],
       "metadata": {},
       "removedWidgets": [],
       "type": "html"
      }
     },
     "output_type": "display_data"
    }
   ],
   "source": [
    "# Cell 2: Read Streaming Data\n",
    "\n",
    "def read_stream(kinesis_stream_name):\n",
    "    \"\"\"\n",
    "    Read streaming data from Kinesis.\n",
    "\n",
    "    Parameters:\n",
    "    - kinesis_stream_name (str): The name of the Kinesis data stream.\n",
    "\n",
    "    Returns:\n",
    "    - pyspark.sql.DataFrame: The DataFrame containing the streaming data.\n",
    "    \"\"\"\n",
    "    df = spark.readStream \\\n",
    "        .format('kinesis') \\\n",
    "        .option('streamName', kinesis_stream_name) \\\n",
    "        .option('initialPosition', 'earliest') \\\n",
    "        .option('region', 'us-east-1') \\\n",
    "        .option('awsAccessKey', ACCESS_KEY) \\\n",
    "        .option('awsSecretKey', SECRET_KEY) \\\n",
    "        .load()\n",
    "    return df\n",
    "\n",
    "# Read streaming data for each stream\n",
    "pin_data = read_stream(\"streaming-126802f17de3-pin\")\n",
    "geo_data = read_stream(\"streaming-126802f17de3-geo\")\n",
    "user_data = read_stream(\"streaming-126802f17de3-user\")"
   ]
  },
  {
   "cell_type": "code",
   "execution_count": 0,
   "metadata": {
    "application/vnd.databricks.v1+cell": {
     "cellMetadata": {
      "byteLimit": 2048000,
      "rowLimit": 10000
     },
     "inputWidgets": {},
     "nuid": "7361e041-b7b1-408f-bb1c-8cc6ee5e7bab",
     "showTitle": false,
     "title": ""
    }
   },
   "outputs": [
    {
     "output_type": "display_data",
     "data": {
      "text/html": [
       "<style scoped>\n",
       "  .ansiout {\n",
       "    display: block;\n",
       "    unicode-bidi: embed;\n",
       "    white-space: pre-wrap;\n",
       "    word-wrap: break-word;\n",
       "    word-break: break-all;\n",
       "    font-family: \"Menlo\", \"Monaco\", \"Consolas\", \"Ubuntu Mono\", \"Source Code Pro\", monospace;\n",
       "    font-size: 13px;\n",
       "    color: #555;\n",
       "    margin-left: 4px;\n",
       "    line-height: 19px;\n",
       "  }\n",
       "</style>\n",
       "<div class=\"ansiout\"></div>"
      ]
     },
     "metadata": {
      "application/vnd.databricks.v1+output": {
       "addedWidgets": {},
       "arguments": {},
       "data": "<div class=\"ansiout\"></div>",
       "datasetInfos": [],
       "metadata": {},
       "removedWidgets": [],
       "type": "html"
      }
     },
     "output_type": "display_data"
    }
   ],
   "source": [
    "# Define Schema and Deserialize Streaming Data\n",
    "\n",
    "pin_schema = StructType([\n",
    "    StructField(\"index\", IntegerType()),\n",
    "    StructField(\"unique_id\", StringType()),\n",
    "    StructField(\"title\", StringType()),\n",
    "    StructField(\"description\", StringType()),\n",
    "    StructField(\"poster_name\", StringType()),\n",
    "    StructField(\"follower_count\", StringType()),\n",
    "    StructField(\"tag_list\", StringType()),\n",
    "    StructField(\"is_image_or_video\", StringType()),\n",
    "    StructField(\"image_src\", StringType()),\n",
    "    StructField(\"downloaded\", IntegerType()),\n",
    "    StructField(\"save_location\", StringType()),\n",
    "    StructField(\"category\", StringType())\n",
    "])\n",
    "\n",
    "geo_schema = StructType([\n",
    "    StructField(\"ind\", IntegerType()),\n",
    "    StructField(\"timestamp\", TimestampType()),\n",
    "    StructField(\"latitude\", FloatType()),\n",
    "    StructField(\"longitude\", FloatType()),\n",
    "    StructField(\"country\", StringType())\n",
    "])\n",
    "\n",
    "user_schema = StructType([\n",
    "    StructField(\"ind\", IntegerType()),\n",
    "    StructField(\"first_name\", StringType()),\n",
    "    StructField(\"last_name\", StringType()),\n",
    "    StructField(\"age\", StringType()),\n",
    "    StructField(\"date_joined\", TimestampType())\n",
    "])\n",
    "\n",
    "def deserialise_data(df, schema):\n",
    "    \"\"\"\n",
    "    Deserialize streaming data using the specified schema.\n",
    "\n",
    "    Parameters:\n",
    "    - df (pyspark.sql.DataFrame): The DataFrame containing streaming data.\n",
    "    - schema (pyspark.sql.types.StructType): The schema to be applied to the data.\n",
    "\n",
    "    Returns:\n",
    "    - pyspark.sql.DataFrame: The DataFrame with deserialized data.\n",
    "    \"\"\"\n",
    "    df = df.selectExpr(\"CAST(data as STRING)\")\n",
    "    new_df = df.select(from_json(\"data\", schema)).select(\"from_json(data).*\")\n",
    "    return new_df \n",
    "\n",
    "# Apply deserialization to the streaming DataFrames\n",
    "df_pin_uncleaned = deserialise_data(pin_data, pin_schema)\n",
    "df_geo_uncleaned = deserialise_data(geo_data, geo_schema)\n",
    "df_user_uncleaned = deserialise_data(user_data, user_schema)\n"
   ]
  },
  {
   "cell_type": "code",
   "execution_count": 0,
   "metadata": {
    "application/vnd.databricks.v1+cell": {
     "cellMetadata": {
      "byteLimit": 2048000,
      "rowLimit": 10000
     },
     "inputWidgets": {},
     "nuid": "d29324e5-c7e3-4364-9cf3-657a133c1300",
     "showTitle": false,
     "title": ""
    }
   },
   "outputs": [
    {
     "output_type": "display_data",
     "data": {
      "text/html": [
       "<style scoped>\n",
       "  .ansiout {\n",
       "    display: block;\n",
       "    unicode-bidi: embed;\n",
       "    white-space: pre-wrap;\n",
       "    word-wrap: break-word;\n",
       "    word-break: break-all;\n",
       "    font-family: \"Menlo\", \"Monaco\", \"Consolas\", \"Ubuntu Mono\", \"Source Code Pro\", monospace;\n",
       "    font-size: 13px;\n",
       "    color: #555;\n",
       "    margin-left: 4px;\n",
       "    line-height: 19px;\n",
       "  }\n",
       "</style>\n",
       "<div class=\"ansiout\"></div>"
      ]
     },
     "metadata": {
      "application/vnd.databricks.v1+output": {
       "addedWidgets": {},
       "arguments": {},
       "data": "<div class=\"ansiout\"></div>",
       "datasetInfos": [],
       "metadata": {},
       "removedWidgets": [],
       "type": "html"
      }
     },
     "output_type": "display_data"
    }
   ],
   "source": [
    "# Cleaning Pinterest DataFrame\n",
    "\n",
    "def cleaning_pin(df):\n",
    "    \"\"\"\n",
    "    Clean the pinterest data DataFrame (df_pin_uncleaned) by performing the following transformations:\n",
    "    1. Replace empty entries and entries with no relevant data with None in specified columns.\n",
    "    2. Transform follower_count to ensure every entry is a number and change its data type to int.\n",
    "    3. Ensure that each column containing numeric data has a numeric data type.\n",
    "    4. Clean the data in the save_location column to include only the save location path.\n",
    "    5. Rename the index column to ind.\n",
    "    6. Reorder the DataFrame columns.\n",
    "\n",
    "    Parameters:\n",
    "    - df (pyspark.sql.DataFrame): Input DataFrame to be cleaned.\n",
    "\n",
    "    Returns:\n",
    "    - pyspark.sql.DataFrame: Cleaned DataFrame.\n",
    "    \"\"\"\n",
    "\n",
    "    null_dict = {\n",
    "        \"description\": \"No description available Story format\",\n",
    "        \"follower_count\": \"User Info Error\",\n",
    "        \"image_src\": \"Image src error.\",\n",
    "        \"poster_name\": \"User Info Error\",\n",
    "        \"tag_list\": \"N,o, ,T,a,g,s, ,A,v,a,i,l,a,b,l,e\",\n",
    "        \"title\": \"No Title Data Available\"\n",
    "    }\n",
    "\n",
    "    for key, value in null_dict.items():\n",
    "        df = df.na.replace(value, None, key)\n",
    "\n",
    "    df = df.withColumn(\"follower_count\", regexp_replace(\"follower_count\", \"k\", \"000\"))\n",
    "    df = df.withColumn(\"follower_count\", regexp_replace(\"follower_count\", \"M\", \"0000\"))\n",
    "    df = df.withColumn(\"follower_count\", df[\"follower_count\"].cast(\"int\"))\n",
    "    df = df.withColumn(\"save_location\", regexp_replace(\"save_location\", \"Local save in \", \"\"))\n",
    "    df = df.withColumnRenamed(\"index\", \"ind\")\n",
    "    df = df.select(\"ind\", \"unique_id\", \"title\", \"description\", \"follower_count\", \"poster_name\", \"tag_list\",\n",
    "                   \"is_image_or_video\", \"image_src\", \"save_location\", \"category\")\n",
    "    return df\n",
    "\n",
    "# Applying cleaning function\n",
    "df_pin = cleaning_pin(df_pin_uncleaned)"
   ]
  },
  {
   "cell_type": "code",
   "execution_count": 0,
   "metadata": {
    "application/vnd.databricks.v1+cell": {
     "cellMetadata": {
      "byteLimit": 2048000,
      "rowLimit": 10000
     },
     "inputWidgets": {},
     "nuid": "6e035f95-be16-48bb-9d7b-366b208d3d0c",
     "showTitle": false,
     "title": ""
    }
   },
   "outputs": [
    {
     "output_type": "display_data",
     "data": {
      "text/html": [
       "<style scoped>\n",
       "  .ansiout {\n",
       "    display: block;\n",
       "    unicode-bidi: embed;\n",
       "    white-space: pre-wrap;\n",
       "    word-wrap: break-word;\n",
       "    word-break: break-all;\n",
       "    font-family: \"Menlo\", \"Monaco\", \"Consolas\", \"Ubuntu Mono\", \"Source Code Pro\", monospace;\n",
       "    font-size: 13px;\n",
       "    color: #555;\n",
       "    margin-left: 4px;\n",
       "    line-height: 19px;\n",
       "  }\n",
       "</style>\n",
       "<div class=\"ansiout\"></div>"
      ]
     },
     "metadata": {
      "application/vnd.databricks.v1+output": {
       "addedWidgets": {},
       "arguments": {},
       "data": "<div class=\"ansiout\"></div>",
       "datasetInfos": [],
       "metadata": {},
       "removedWidgets": [],
       "type": "html"
      }
     },
     "output_type": "display_data"
    }
   ],
   "source": [
    "# Cleaning Geolocation DataFrame\n",
    "\n",
    "def cleaning_geo(df):\n",
    "    \"\"\"\n",
    "    Clean the geolocation data DataFrame (df_geo_uncleaned) by performing the following transformations:\n",
    "    1. Create a new column coordinates that contains an array based on the latitude and longitude columns.\n",
    "    2. Drop the latitude and longitude columns from the DataFrame.\n",
    "    3. Convert the timestamp column from a string to a timestamp data type.\n",
    "    4. Reorder the DataFrame columns.\n",
    "\n",
    "    Parameters:\n",
    "    - df (pyspark.sql.DataFrame): Input DataFrame to be cleaned.\n",
    "\n",
    "    Returns:\n",
    "    - pyspark.sql.DataFrame: Cleaned DataFrame.\n",
    "    \"\"\"\n",
    "    df = df.withColumn(\"coordinates\", array(\"latitude\", \"longitude\"))\n",
    "    df = df.drop(\"latitude\", \"longitude\")\n",
    "    df = df.withColumn(\"timestamp\", to_timestamp(\"timestamp\"))\n",
    "    df = df.select(\"ind\", \"country\", \"coordinates\", \"timestamp\")\n",
    "    return df\n",
    "\n",
    "        \n",
    "# Applying cleaning function\n",
    "df_geo = cleaning_geo(df_geo_uncleaned)"
   ]
  },
  {
   "cell_type": "code",
   "execution_count": 0,
   "metadata": {
    "application/vnd.databricks.v1+cell": {
     "cellMetadata": {
      "byteLimit": 2048000,
      "rowLimit": 10000
     },
     "inputWidgets": {},
     "nuid": "bd2cbb00-91ad-41c3-86b7-3cfa84270e2a",
     "showTitle": false,
     "title": ""
    }
   },
   "outputs": [
    {
     "output_type": "display_data",
     "data": {
      "text/html": [
       "<style scoped>\n",
       "  .ansiout {\n",
       "    display: block;\n",
       "    unicode-bidi: embed;\n",
       "    white-space: pre-wrap;\n",
       "    word-wrap: break-word;\n",
       "    word-break: break-all;\n",
       "    font-family: \"Menlo\", \"Monaco\", \"Consolas\", \"Ubuntu Mono\", \"Source Code Pro\", monospace;\n",
       "    font-size: 13px;\n",
       "    color: #555;\n",
       "    margin-left: 4px;\n",
       "    line-height: 19px;\n",
       "  }\n",
       "</style>\n",
       "<div class=\"ansiout\"></div>"
      ]
     },
     "metadata": {
      "application/vnd.databricks.v1+output": {
       "addedWidgets": {},
       "arguments": {},
       "data": "<div class=\"ansiout\"></div>",
       "datasetInfos": [],
       "metadata": {},
       "removedWidgets": [],
       "type": "html"
      }
     },
     "output_type": "display_data"
    }
   ],
   "source": [
    "# Cleaning User DataFrame\n",
    "\n",
    "def cleaning_user(df):\n",
    "    \"\"\"\n",
    "    Clean the user data DataFrame (df_user_uncleaned) by performing the following transformations:\n",
    "    1. Create a new column user_name that concatenates the information found in the first_name and last_name columns.\n",
    "    2. Drop the first_name and last_name columns from the DataFrame.\n",
    "    3. Convert the date_joined column from a string to a timestamp data type.\n",
    "    4. Reorder the DataFrame columns.\n",
    "\n",
    "    Parameters:\n",
    "    - df (pyspark.sql.DataFrame): Input DataFrame to be cleaned.\n",
    "\n",
    "    Returns:\n",
    "    - pyspark.sql.DataFrame: Cleaned DataFrame.\n",
    "    \"\"\"\n",
    "    df = df.withColumn(\"user_name\", concat(\"first_name\", lit(\" \"), \"last_name\"))\n",
    "    df = df.drop(\"first_name\", \"last_name\")\n",
    "    df = df.withColumn(\"date_joined\", to_timestamp(\"date_joined\"))\n",
    "    df = df.select(\"ind\", \"user_name\", \"age\", \"date_joined\")\n",
    "    return df\n",
    "\n",
    "        \n",
    "# Applying cleaning function\n",
    "df_user = cleaning_user(df_user_uncleaned)"
   ]
  },
  {
   "cell_type": "code",
   "execution_count": 0,
   "metadata": {
    "application/vnd.databricks.v1+cell": {
     "cellMetadata": {
      "byteLimit": 2048000,
      "rowLimit": 10000
     },
     "inputWidgets": {},
     "nuid": "d9e56d7d-fd48-4085-8125-0854435549f8",
     "showTitle": false,
     "title": ""
    }
   },
   "outputs": [
    {
     "output_type": "display_data",
     "data": {
      "text/html": [
       "<style scoped>\n",
       "  .ansiout {\n",
       "    display: block;\n",
       "    unicode-bidi: embed;\n",
       "    white-space: pre-wrap;\n",
       "    word-wrap: break-word;\n",
       "    word-break: break-all;\n",
       "    font-family: \"Menlo\", \"Monaco\", \"Consolas\", \"Ubuntu Mono\", \"Source Code Pro\", monospace;\n",
       "    font-size: 13px;\n",
       "    color: #555;\n",
       "    margin-left: 4px;\n",
       "    line-height: 19px;\n",
       "  }\n",
       "</style>\n",
       "<div class=\"ansiout\"></div>"
      ]
     },
     "metadata": {
      "application/vnd.databricks.v1+output": {
       "addedWidgets": {},
       "arguments": {},
       "data": "<div class=\"ansiout\"></div>",
       "datasetInfos": [],
       "metadata": {},
       "removedWidgets": [],
       "type": "html"
      }
     },
     "output_type": "display_data"
    }
   ],
   "source": [
    "# Write Streaming Data to Databricks Delta Table\n",
    "\n",
    "def write_stream_to_databricks(df, delta_table_name):\n",
    "    \"\"\"\n",
    "    Write streaming data to a Databricks Delta table.\n",
    "\n",
    "    Parameters:\n",
    "    - df (pyspark.sql.DataFrame): The DataFrame containing streaming data.\n",
    "    - delta_table_name (str): The name of the Delta table to which the data should be written.\n",
    "    \"\"\"\n",
    "    df.writeStream \\\n",
    "        .format(\"delta\") \\\n",
    "        .outputMode(\"append\") \\\n",
    "        .option(\"checkpointLocation\", f\"/tmp/kinesis/{delta_table_name}_checkpoints/\") \\\n",
    "        .table(delta_table_name)\n",
    "\n",
    "# Before running the writeStream function again, you will need to delete the checkpoint folder using the following command:\n",
    "# dbutils.fs.rm(\"/tmp/kinesis/_checkpoints/\", recurse=True)\n",
    "dbutils.fs.rm(\"/tmp/kinesis/126802f17de3_pin_table_checkpoints/\", recurse=True)\n",
    "dbutils.fs.rm(\"/tmp/kinesis/126802f17de3_geo_table_checkpoints/\", recurse=True)\n",
    "dbutils.fs.rm(\"/tmp/kinesis/126802f17de3_user_table_checkpoints/\", recurse=True)\n",
    "\n",
    "# Write streaming data to Databricks Delta tables\n",
    "write_stream_to_databricks(df_pin, \"126802f17de3_pin_table\")\n",
    "write_stream_to_databricks(df_geo, \"126802f17de3_geo_table\")\n",
    "write_stream_to_databricks(df_user, \"126802f17de3_user_table\")"
   ]
  }
 ],
 "metadata": {
  "application/vnd.databricks.v1+notebook": {
   "dashboards": [],
   "language": "python",
   "notebookMetadata": {
    "mostRecentlyExecutedCommandWithImplicitDF": {
     "commandId": 94294414898099,
     "dataframes": [
      "_sqldf"
     ]
    },
    "pythonIndentUnit": 4
   },
   "notebookName": "AiCore_Pinterest_Streaming",
   "widgets": {}
  }
 },
 "nbformat": 4,
 "nbformat_minor": 0
}
